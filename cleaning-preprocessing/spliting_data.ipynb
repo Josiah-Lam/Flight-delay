{
 "cells": [
  {
   "cell_type": "code",
   "execution_count": 6,
   "metadata": {},
   "outputs": [],
   "source": [
    "import matplotlib.pyplot as plt\n",
    "import pandas as pd\n",
    "import numpy as np\n",
    "%matplotlib inline"
   ]
  },
  {
   "cell_type": "code",
   "execution_count": 13,
   "metadata": {},
   "outputs": [
    {
     "name": "stdout",
     "output_type": "stream",
     "text": [
      "<class 'pandas.core.frame.DataFrame'>\n",
      "RangeIndex: 28820 entries, 0 to 28819\n",
      "Columns: 111 entries, MONTH to Condition_Wintry Mix / Windy\n",
      "dtypes: bool(96), float64(1), int64(14)\n",
      "memory usage: 5.9 MB\n"
     ]
    }
   ],
   "source": [
    "df = pd.read_csv('cleaned_flight_data_with_target.csv')\n",
    "# df.head(5)\n",
    "df.info()"
   ]
  },
  {
   "cell_type": "code",
   "execution_count": 10,
   "metadata": {},
   "outputs": [
    {
     "name": "stdout",
     "output_type": "stream",
     "text": [
      "<class 'pandas.core.frame.DataFrame'>\n",
      "Index: 3874 entries, 2 to 28817\n",
      "Columns: 111 entries, MONTH to Condition_Wintry Mix / Windy\n",
      "dtypes: bool(96), float64(1), int64(14)\n",
      "memory usage: 847.4 KB\n"
     ]
    }
   ],
   "source": [
    "df = df[df['DEP_DELAY'] > 0]\n",
    "df.info()"
   ]
  },
  {
   "cell_type": "code",
   "execution_count": 12,
   "metadata": {},
   "outputs": [
    {
     "name": "stdout",
     "output_type": "stream",
     "text": [
      "<class 'pandas.core.frame.DataFrame'>\n",
      "Index: 3874 entries, 2 to 28817\n",
      "Columns: 111 entries, MONTH to Condition_Wintry Mix / Windy\n",
      "dtypes: bool(96), float64(1), int64(14)\n",
      "memory usage: 847.4 KB\n"
     ]
    }
   ],
   "source": [
    "df = df[df['DEP_DELAY'] > 5]\n",
    "df.info()"
   ]
  },
  {
   "cell_type": "code",
   "execution_count": 11,
   "metadata": {},
   "outputs": [
    {
     "name": "stdout",
     "output_type": "stream",
     "text": [
      "<class 'pandas.core.frame.DataFrame'>\n",
      "Index: 3874 entries, 2 to 28817\n",
      "Columns: 111 entries, MONTH to Condition_Wintry Mix / Windy\n",
      "dtypes: bool(96), float64(1), int64(14)\n",
      "memory usage: 847.4 KB\n"
     ]
    }
   ],
   "source": [
    "df = df[df['DEP_DELAY'] > 15]\n",
    "df.info()"
   ]
  }
 ],
 "metadata": {
  "kernelspec": {
   "display_name": "base",
   "language": "python",
   "name": "python3"
  },
  "language_info": {
   "codemirror_mode": {
    "name": "ipython",
    "version": 3
   },
   "file_extension": ".py",
   "mimetype": "text/x-python",
   "name": "python",
   "nbconvert_exporter": "python",
   "pygments_lexer": "ipython3",
   "version": "3.10.9"
  },
  "orig_nbformat": 4,
  "vscode": {
   "interpreter": {
    "hash": "ec5ac13b6a65dbb336febcea5a6102df125651a3743895472026e6d8a7f60689"
   }
  }
 },
 "nbformat": 4,
 "nbformat_minor": 2
}
