{
 "cells": [
  {
   "attachments": {},
   "cell_type": "markdown",
   "metadata": {},
   "source": [
    "# Knn Regression\n",
    "\n",
    "1. Choose K (the number of clusters you want).\n",
    "\n",
    "2. Initialize K centroids randomly.\n",
    "\n",
    "3. Repeat until convergence:\n",
    "   a. Assign each data point to the nearest centroid.\n",
    "   b. Recalculate the centroids based on the current assignment of data points.\n",
    "   \n",
    "4. Return the final K centroids and the corresponding cluster assignments.\n"
   ]
  },
  {
   "attachments": {},
   "cell_type": "markdown",
   "metadata": {},
   "source": [
    "### Import Modules and Read Dataset"
   ]
  },
  {
   "cell_type": "code",
   "execution_count": 136,
   "metadata": {},
   "outputs": [],
   "source": [
    "# import modules \n",
    "import pandas as pd\n",
    "import matplotlib.pyplot as plt\n",
    "import numpy as np\n",
    "import seaborn as sns\n",
    "%matplotlib inline "
   ]
  },
  {
   "cell_type": "code",
   "execution_count": 137,
   "metadata": {},
   "outputs": [],
   "source": [
    "df = pd.read_csv('../cleaning-preprocessing/cleaned_flight_data_with_target.csv')\n",
    "# df.head(5)"
   ]
  },
  {
   "cell_type": "code",
   "execution_count": 138,
   "metadata": {},
   "outputs": [],
   "source": [
    "df = df.astype(int)\n",
    "# df.head(5)"
   ]
  },
  {
   "cell_type": "code",
   "execution_count": 139,
   "metadata": {},
   "outputs": [
    {
     "data": {
      "text/html": [
       "<div>\n",
       "<style scoped>\n",
       "    .dataframe tbody tr th:only-of-type {\n",
       "        vertical-align: middle;\n",
       "    }\n",
       "\n",
       "    .dataframe tbody tr th {\n",
       "        vertical-align: top;\n",
       "    }\n",
       "\n",
       "    .dataframe thead th {\n",
       "        text-align: right;\n",
       "    }\n",
       "</style>\n",
       "<table border=\"1\" class=\"dataframe\">\n",
       "  <thead>\n",
       "    <tr style=\"text-align: right;\">\n",
       "      <th></th>\n",
       "      <th>MONTH</th>\n",
       "      <th>DAY_OF_MONTH</th>\n",
       "      <th>DAY_OF_WEEK</th>\n",
       "      <th>CRS_ELAPSED_TIME</th>\n",
       "      <th>DISTANCE</th>\n",
       "      <th>CRS_DEP_M</th>\n",
       "      <th>CRS_ARR_M</th>\n",
       "      <th>Temperature</th>\n",
       "      <th>Dew Point</th>\n",
       "      <th>Humidity</th>\n",
       "      <th>...</th>\n",
       "      <th>Condition_Light Snow / Windy</th>\n",
       "      <th>Condition_Mostly Cloudy</th>\n",
       "      <th>Condition_Mostly Cloudy / Windy</th>\n",
       "      <th>Condition_Partly Cloudy</th>\n",
       "      <th>Condition_Partly Cloudy / Windy</th>\n",
       "      <th>Condition_Rain</th>\n",
       "      <th>Condition_Rain / Windy</th>\n",
       "      <th>Condition_Snow</th>\n",
       "      <th>Condition_Wintry Mix</th>\n",
       "      <th>Condition_Wintry Mix / Windy</th>\n",
       "    </tr>\n",
       "  </thead>\n",
       "  <tbody>\n",
       "    <tr>\n",
       "      <th>2</th>\n",
       "      <td>11</td>\n",
       "      <td>1</td>\n",
       "      <td>5</td>\n",
       "      <td>181</td>\n",
       "      <td>1069</td>\n",
       "      <td>301</td>\n",
       "      <td>482</td>\n",
       "      <td>48</td>\n",
       "      <td>34</td>\n",
       "      <td>58</td>\n",
       "      <td>...</td>\n",
       "      <td>0</td>\n",
       "      <td>0</td>\n",
       "      <td>0</td>\n",
       "      <td>0</td>\n",
       "      <td>0</td>\n",
       "      <td>0</td>\n",
       "      <td>0</td>\n",
       "      <td>0</td>\n",
       "      <td>0</td>\n",
       "      <td>0</td>\n",
       "    </tr>\n",
       "    <tr>\n",
       "      <th>8</th>\n",
       "      <td>11</td>\n",
       "      <td>1</td>\n",
       "      <td>5</td>\n",
       "      <td>368</td>\n",
       "      <td>2465</td>\n",
       "      <td>365</td>\n",
       "      <td>553</td>\n",
       "      <td>46</td>\n",
       "      <td>32</td>\n",
       "      <td>58</td>\n",
       "      <td>...</td>\n",
       "      <td>0</td>\n",
       "      <td>0</td>\n",
       "      <td>0</td>\n",
       "      <td>0</td>\n",
       "      <td>0</td>\n",
       "      <td>0</td>\n",
       "      <td>0</td>\n",
       "      <td>0</td>\n",
       "      <td>0</td>\n",
       "      <td>0</td>\n",
       "    </tr>\n",
       "    <tr>\n",
       "      <th>9</th>\n",
       "      <td>11</td>\n",
       "      <td>1</td>\n",
       "      <td>5</td>\n",
       "      <td>184</td>\n",
       "      <td>1069</td>\n",
       "      <td>370</td>\n",
       "      <td>554</td>\n",
       "      <td>46</td>\n",
       "      <td>32</td>\n",
       "      <td>58</td>\n",
       "      <td>...</td>\n",
       "      <td>0</td>\n",
       "      <td>0</td>\n",
       "      <td>0</td>\n",
       "      <td>0</td>\n",
       "      <td>0</td>\n",
       "      <td>0</td>\n",
       "      <td>0</td>\n",
       "      <td>0</td>\n",
       "      <td>0</td>\n",
       "      <td>0</td>\n",
       "    </tr>\n",
       "    <tr>\n",
       "      <th>14</th>\n",
       "      <td>11</td>\n",
       "      <td>1</td>\n",
       "      <td>5</td>\n",
       "      <td>222</td>\n",
       "      <td>1598</td>\n",
       "      <td>301</td>\n",
       "      <td>523</td>\n",
       "      <td>46</td>\n",
       "      <td>32</td>\n",
       "      <td>58</td>\n",
       "      <td>...</td>\n",
       "      <td>0</td>\n",
       "      <td>0</td>\n",
       "      <td>0</td>\n",
       "      <td>0</td>\n",
       "      <td>0</td>\n",
       "      <td>0</td>\n",
       "      <td>0</td>\n",
       "      <td>0</td>\n",
       "      <td>0</td>\n",
       "      <td>0</td>\n",
       "    </tr>\n",
       "    <tr>\n",
       "      <th>21</th>\n",
       "      <td>11</td>\n",
       "      <td>1</td>\n",
       "      <td>5</td>\n",
       "      <td>154</td>\n",
       "      <td>760</td>\n",
       "      <td>418</td>\n",
       "      <td>572</td>\n",
       "      <td>47</td>\n",
       "      <td>33</td>\n",
       "      <td>59</td>\n",
       "      <td>...</td>\n",
       "      <td>0</td>\n",
       "      <td>0</td>\n",
       "      <td>0</td>\n",
       "      <td>0</td>\n",
       "      <td>0</td>\n",
       "      <td>0</td>\n",
       "      <td>0</td>\n",
       "      <td>0</td>\n",
       "      <td>0</td>\n",
       "      <td>0</td>\n",
       "    </tr>\n",
       "    <tr>\n",
       "      <th>...</th>\n",
       "      <td>...</td>\n",
       "      <td>...</td>\n",
       "      <td>...</td>\n",
       "      <td>...</td>\n",
       "      <td>...</td>\n",
       "      <td>...</td>\n",
       "      <td>...</td>\n",
       "      <td>...</td>\n",
       "      <td>...</td>\n",
       "      <td>...</td>\n",
       "      <td>...</td>\n",
       "      <td>...</td>\n",
       "      <td>...</td>\n",
       "      <td>...</td>\n",
       "      <td>...</td>\n",
       "      <td>...</td>\n",
       "      <td>...</td>\n",
       "      <td>...</td>\n",
       "      <td>...</td>\n",
       "      <td>...</td>\n",
       "      <td>...</td>\n",
       "    </tr>\n",
       "    <tr>\n",
       "      <th>28811</th>\n",
       "      <td>1</td>\n",
       "      <td>31</td>\n",
       "      <td>5</td>\n",
       "      <td>406</td>\n",
       "      <td>2586</td>\n",
       "      <td>1273</td>\n",
       "      <td>59</td>\n",
       "      <td>40</td>\n",
       "      <td>38</td>\n",
       "      <td>93</td>\n",
       "      <td>...</td>\n",
       "      <td>0</td>\n",
       "      <td>0</td>\n",
       "      <td>0</td>\n",
       "      <td>0</td>\n",
       "      <td>0</td>\n",
       "      <td>0</td>\n",
       "      <td>0</td>\n",
       "      <td>0</td>\n",
       "      <td>0</td>\n",
       "      <td>0</td>\n",
       "    </tr>\n",
       "    <tr>\n",
       "      <th>28815</th>\n",
       "      <td>1</td>\n",
       "      <td>31</td>\n",
       "      <td>5</td>\n",
       "      <td>57</td>\n",
       "      <td>150</td>\n",
       "      <td>1370</td>\n",
       "      <td>1427</td>\n",
       "      <td>39</td>\n",
       "      <td>38</td>\n",
       "      <td>96</td>\n",
       "      <td>...</td>\n",
       "      <td>0</td>\n",
       "      <td>0</td>\n",
       "      <td>0</td>\n",
       "      <td>0</td>\n",
       "      <td>0</td>\n",
       "      <td>0</td>\n",
       "      <td>0</td>\n",
       "      <td>0</td>\n",
       "      <td>0</td>\n",
       "      <td>0</td>\n",
       "    </tr>\n",
       "    <tr>\n",
       "      <th>28816</th>\n",
       "      <td>1</td>\n",
       "      <td>31</td>\n",
       "      <td>5</td>\n",
       "      <td>75</td>\n",
       "      <td>187</td>\n",
       "      <td>1390</td>\n",
       "      <td>25</td>\n",
       "      <td>39</td>\n",
       "      <td>38</td>\n",
       "      <td>96</td>\n",
       "      <td>...</td>\n",
       "      <td>0</td>\n",
       "      <td>0</td>\n",
       "      <td>0</td>\n",
       "      <td>0</td>\n",
       "      <td>0</td>\n",
       "      <td>0</td>\n",
       "      <td>0</td>\n",
       "      <td>0</td>\n",
       "      <td>0</td>\n",
       "      <td>0</td>\n",
       "    </tr>\n",
       "    <tr>\n",
       "      <th>28817</th>\n",
       "      <td>1</td>\n",
       "      <td>31</td>\n",
       "      <td>5</td>\n",
       "      <td>392</td>\n",
       "      <td>2422</td>\n",
       "      <td>1125</td>\n",
       "      <td>1337</td>\n",
       "      <td>39</td>\n",
       "      <td>38</td>\n",
       "      <td>96</td>\n",
       "      <td>...</td>\n",
       "      <td>0</td>\n",
       "      <td>0</td>\n",
       "      <td>0</td>\n",
       "      <td>0</td>\n",
       "      <td>0</td>\n",
       "      <td>0</td>\n",
       "      <td>0</td>\n",
       "      <td>0</td>\n",
       "      <td>0</td>\n",
       "      <td>0</td>\n",
       "    </tr>\n",
       "    <tr>\n",
       "      <th>28818</th>\n",
       "      <td>1</td>\n",
       "      <td>31</td>\n",
       "      <td>5</td>\n",
       "      <td>224</td>\n",
       "      <td>1598</td>\n",
       "      <td>1417</td>\n",
       "      <td>261</td>\n",
       "      <td>39</td>\n",
       "      <td>38</td>\n",
       "      <td>96</td>\n",
       "      <td>...</td>\n",
       "      <td>0</td>\n",
       "      <td>0</td>\n",
       "      <td>0</td>\n",
       "      <td>0</td>\n",
       "      <td>0</td>\n",
       "      <td>0</td>\n",
       "      <td>0</td>\n",
       "      <td>0</td>\n",
       "      <td>0</td>\n",
       "      <td>0</td>\n",
       "    </tr>\n",
       "  </tbody>\n",
       "</table>\n",
       "<p>9271 rows × 111 columns</p>\n",
       "</div>"
      ],
      "text/plain": [
       "       MONTH  DAY_OF_MONTH  DAY_OF_WEEK  CRS_ELAPSED_TIME  DISTANCE  \\\n",
       "2         11             1            5               181      1069   \n",
       "8         11             1            5               368      2465   \n",
       "9         11             1            5               184      1069   \n",
       "14        11             1            5               222      1598   \n",
       "21        11             1            5               154       760   \n",
       "...      ...           ...          ...               ...       ...   \n",
       "28811      1            31            5               406      2586   \n",
       "28815      1            31            5                57       150   \n",
       "28816      1            31            5                75       187   \n",
       "28817      1            31            5               392      2422   \n",
       "28818      1            31            5               224      1598   \n",
       "\n",
       "       CRS_DEP_M  CRS_ARR_M  Temperature  Dew Point  Humidity  ...  \\\n",
       "2            301        482           48         34        58  ...   \n",
       "8            365        553           46         32        58  ...   \n",
       "9            370        554           46         32        58  ...   \n",
       "14           301        523           46         32        58  ...   \n",
       "21           418        572           47         33        59  ...   \n",
       "...          ...        ...          ...        ...       ...  ...   \n",
       "28811       1273         59           40         38        93  ...   \n",
       "28815       1370       1427           39         38        96  ...   \n",
       "28816       1390         25           39         38        96  ...   \n",
       "28817       1125       1337           39         38        96  ...   \n",
       "28818       1417        261           39         38        96  ...   \n",
       "\n",
       "       Condition_Light Snow / Windy  Condition_Mostly Cloudy  \\\n",
       "2                                 0                        0   \n",
       "8                                 0                        0   \n",
       "9                                 0                        0   \n",
       "14                                0                        0   \n",
       "21                                0                        0   \n",
       "...                             ...                      ...   \n",
       "28811                             0                        0   \n",
       "28815                             0                        0   \n",
       "28816                             0                        0   \n",
       "28817                             0                        0   \n",
       "28818                             0                        0   \n",
       "\n",
       "       Condition_Mostly Cloudy / Windy  Condition_Partly Cloudy  \\\n",
       "2                                    0                        0   \n",
       "8                                    0                        0   \n",
       "9                                    0                        0   \n",
       "14                                   0                        0   \n",
       "21                                   0                        0   \n",
       "...                                ...                      ...   \n",
       "28811                                0                        0   \n",
       "28815                                0                        0   \n",
       "28816                                0                        0   \n",
       "28817                                0                        0   \n",
       "28818                                0                        0   \n",
       "\n",
       "       Condition_Partly Cloudy / Windy  Condition_Rain  \\\n",
       "2                                    0               0   \n",
       "8                                    0               0   \n",
       "9                                    0               0   \n",
       "14                                   0               0   \n",
       "21                                   0               0   \n",
       "...                                ...             ...   \n",
       "28811                                0               0   \n",
       "28815                                0               0   \n",
       "28816                                0               0   \n",
       "28817                                0               0   \n",
       "28818                                0               0   \n",
       "\n",
       "       Condition_Rain / Windy  Condition_Snow  Condition_Wintry Mix  \\\n",
       "2                           0               0                     0   \n",
       "8                           0               0                     0   \n",
       "9                           0               0                     0   \n",
       "14                          0               0                     0   \n",
       "21                          0               0                     0   \n",
       "...                       ...             ...                   ...   \n",
       "28811                       0               0                     0   \n",
       "28815                       0               0                     0   \n",
       "28816                       0               0                     0   \n",
       "28817                       0               0                     0   \n",
       "28818                       0               0                     0   \n",
       "\n",
       "       Condition_Wintry Mix / Windy  \n",
       "2                                 0  \n",
       "8                                 0  \n",
       "9                                 0  \n",
       "14                                0  \n",
       "21                                0  \n",
       "...                             ...  \n",
       "28811                             0  \n",
       "28815                             0  \n",
       "28816                             0  \n",
       "28817                             0  \n",
       "28818                             0  \n",
       "\n",
       "[9271 rows x 111 columns]"
      ]
     },
     "execution_count": 139,
     "metadata": {},
     "output_type": "execute_result"
    }
   ],
   "source": [
    "# Spliting the dataset\n",
    "# Getting DEP_DELAY for the once only delay \n",
    "# any positive values means that it is early departure\n",
    "\n",
    "df = df[df['DEP_DELAY'] >= 0]\n",
    "df"
   ]
  },
  {
   "attachments": {},
   "cell_type": "markdown",
   "metadata": {},
   "source": [
    "### Transformation Testing"
   ]
  },
  {
   "cell_type": "code",
   "execution_count": 140,
   "metadata": {},
   "outputs": [
    {
     "name": "stdout",
     "output_type": "stream",
     "text": [
      "7.091690178514654\n",
      "0.2636606634460966\n",
      "0.04226432997440612\n"
     ]
    },
    {
     "name": "stderr",
     "output_type": "stream",
     "text": [
      "/Users/engineererjojo/anaconda3/lib/python3.10/site-packages/seaborn/_oldcore.py:1119: FutureWarning: use_inf_as_na option is deprecated and will be removed in a future version. Convert inf values to NaN before operating instead.\n",
      "  with pd.option_context('mode.use_inf_as_na', True):\n",
      "/Users/engineererjojo/anaconda3/lib/python3.10/site-packages/seaborn/_oldcore.py:1119: FutureWarning: use_inf_as_na option is deprecated and will be removed in a future version. Convert inf values to NaN before operating instead.\n",
      "  with pd.option_context('mode.use_inf_as_na', True):\n",
      "/Users/engineererjojo/anaconda3/lib/python3.10/site-packages/seaborn/_oldcore.py:1119: FutureWarning: use_inf_as_na option is deprecated and will be removed in a future version. Convert inf values to NaN before operating instead.\n",
      "  with pd.option_context('mode.use_inf_as_na', True):\n"
     ]
    },
    {
     "data": {
      "image/png": "[encoded data removed]",
      "text/plain": [
       "<Figure size 1500x500 with 3 Axes>"
      ]
     },
     "metadata": {},
     "output_type": "display_data"
    }
   ],
   "source": [
    "print(df['DEP_DELAY'].skew())  # If > 0.5 or < -0.5, transformation is needed\n",
    "\n",
    "df['DEP_DELAY_shifted'] = df['DEP_DELAY'] - df['DEP_DELAY'].min() + 1\n",
    "# df['DEP_DELAY_log'] = np.log1p(df['DEP_DELAY_shifted'])\n",
    "\n",
    "df['DEP_DELAY_log'] = np.log1p(df['DEP_DELAY_shifted'])  # log1p avoids log(0) issue\n",
    "df['DEP_DELAY_sqrt'] = np.sqrt(df['DEP_DELAY_shifted']) # sqrt version\n",
    "\n",
    "from scipy.stats import boxcox\n",
    "df['DEP_DELAY_BOXCOX'], lambda_ = boxcox(df['DEP_DELAY_shifted'] + 1)  # Adding 1 to avoid issues with 0\n",
    "\n",
    "print(df['DEP_DELAY_log'].skew())\n",
    "print(df['DEP_DELAY_BOXCOX'].skew())\n",
    "\n",
    "fig, axes = plt.subplots(1, 3, figsize=(15, 5))\n",
    "\n",
    "sns.histplot(df['DEP_DELAY'], kde=True, ax=axes[0])\n",
    "axes[0].set_title('Original')\n",
    "\n",
    "sns.histplot(df['DEP_DELAY_log'], kde=True, ax=axes[1])\n",
    "axes[1].set_title('Log Transformed')\n",
    "\n",
    "sns.histplot(df['DEP_DELAY_BOXCOX'], kde=True, ax=axes[2])\n",
    "axes[2].set_title('BOXCOX Transformed')\n",
    "\n",
    "plt.show()"
   ]
  },
  {
   "cell_type": "code",
   "execution_count": 141,
   "metadata": {},
   "outputs": [
    {
     "data": {
      "text/plain": [
       "2        3.122694\n",
       "8        0.669841\n",
       "9        1.487466\n",
       "14       3.756324\n",
       "21       0.669841\n",
       "           ...   \n",
       "28811    3.528626\n",
       "28815    1.295146\n",
       "28816    1.295146\n",
       "28817    4.326045\n",
       "28818    1.769525\n",
       "Name: DEP_DELAY_BOXCOX, Length: 9271, dtype: float64"
      ]
     },
     "execution_count": 141,
     "metadata": {},
     "output_type": "execute_result"
    }
   ],
   "source": [
    "df['DEP_DELAY_BOXCOX']"
   ]
  },
  {
   "cell_type": "code",
   "execution_count": 142,
   "metadata": {},
   "outputs": [
    {
     "data": {
      "text/plain": [
       "2    3.122694\n",
       "8    0.669841\n",
       "9    1.487466\n",
       "Name: DEP_DELAY_BOXCOX, dtype: float64"
      ]
     },
     "execution_count": 142,
     "metadata": {},
     "output_type": "execute_result"
    }
   ],
   "source": [
    "X = df.drop(columns=['DEP_DELAY_log', 'DEP_DELAY','DEP_DELAY_shifted', 'DEP_DELAY_sqrt', 'DEP_DELAY_BOXCOX']) #Dropping DEP_DELAY Log/Sqrt transform cols\n",
    "\n",
    "# Using BoxCox Transformation\n",
    "y = df['DEP_DELAY_BOXCOX'] # Target variable\n",
    "\n",
    "y.head(3)"
   ]
  },
  {
   "attachments": {},
   "cell_type": "markdown",
   "metadata": {},
   "source": [
    "### Feature Selection (Post Boxcox Transformation)"
   ]
  },
  {
   "cell_type": "code",
   "execution_count": 143,
   "metadata": {},
   "outputs": [
    {
     "name": "stderr",
     "output_type": "stream",
     "text": [
      "/var/folders/06/6rnd9mvj2tg64m2vg9cssn0w0000gn/T/ipykernel_19069/3256436071.py:1: FutureWarning: DataFrame.applymap has been deprecated. Use DataFrame.map instead.\n",
      "  X = X.applymap(lambda x: max(x, 0))\n"
     ]
    }
   ],
   "source": [
    "X = X.applymap(lambda x: max(x, 0))\n",
    "X = X.fillna(X.mean())"
   ]
  },
  {
   "cell_type": "code",
   "execution_count": 144,
   "metadata": {},
   "outputs": [],
   "source": [
    "k_num_features = 9"
   ]
  },
  {
   "cell_type": "code",
   "execution_count": 145,
   "metadata": {},
   "outputs": [
    {
     "name": "stdout",
     "output_type": "stream",
     "text": [
      "Selected Features:\n",
      "                Feature     F-Score\n",
      "5               sch_dep  234.520556\n",
      "2             CRS_DEP_M  169.930654\n",
      "7  OP_UNIQUE_CARRIER_DL  164.930311\n",
      "0      CRS_ELAPSED_TIME  143.744673\n",
      "1              DISTANCE  137.536860\n",
      "6  OP_UNIQUE_CARRIER_B6  135.511615\n",
      "8  OP_UNIQUE_CARRIER_MQ   71.619332\n",
      "3            Wind Speed   69.454290\n",
      "4              Pressure   66.744081\n"
     ]
    }
   ],
   "source": [
    "from sklearn.feature_selection import SelectKBest, f_regression\n",
    "from sklearn.preprocessing import StandardScaler\n",
    "\n",
    "# Standardize numerical features\n",
    "scaler = StandardScaler()\n",
    "X_scaled = scaler.fit_transform(X)\n",
    "\n",
    "# Apply SelectKBest with f_regression\n",
    "k = k_num_features  # Number of top features to select\n",
    "selector = SelectKBest(score_func=f_regression, k=k)\n",
    "X_selected = selector.fit_transform(X_scaled, y)\n",
    "\n",
    "# Get selected feature names\n",
    "selected_features = X.columns[selector.get_support()]\n",
    "feature_scores = selector.scores_[selector.get_support()]\n",
    "\n",
    "# Create a DataFrame with feature names and scores\n",
    "feature_df = pd.DataFrame({'Feature': selected_features, 'F-Score': feature_scores})\n",
    "feature_df = feature_df.sort_values(by='F-Score', ascending=False)\n",
    "\n",
    "# Print the selected features\n",
    "print(\"Selected Features:\")\n",
    "print(feature_df)"
   ]
  },
  {
   "attachments": {},
   "cell_type": "markdown",
   "metadata": {},
   "source": [
    "### BoxCox TransFormation"
   ]
  },
  {
   "cell_type": "code",
   "execution_count": 146,
   "metadata": {},
   "outputs": [
    {
     "name": "stderr",
     "output_type": "stream",
     "text": [
      "/var/folders/06/6rnd9mvj2tg64m2vg9cssn0w0000gn/T/ipykernel_19069/172215960.py:2: PerformanceWarning: DataFrame is highly fragmented.  This is usually the result of calling `frame.insert` many times, which has poor performance.  Consider joining all columns at once using pd.concat(axis=1) instead. To get a de-fragmented frame, use `newframe = frame.copy()`\n",
      "  X['sch_dep_boxcox'], lambda_ = boxcox(X['sch_dep'] + 1)  #Top1 Feature\n",
      "/var/folders/06/6rnd9mvj2tg64m2vg9cssn0w0000gn/T/ipykernel_19069/172215960.py:3: PerformanceWarning: DataFrame is highly fragmented.  This is usually the result of calling `frame.insert` many times, which has poor performance.  Consider joining all columns at once using pd.concat(axis=1) instead. To get a de-fragmented frame, use `newframe = frame.copy()`\n",
      "  X['CRS_DEP_M_boxcox'], lambda_ = boxcox(X['CRS_DEP_M'] + 1) #Top2 Feature\n",
      "/var/folders/06/6rnd9mvj2tg64m2vg9cssn0w0000gn/T/ipykernel_19069/172215960.py:4: PerformanceWarning: DataFrame is highly fragmented.  This is usually the result of calling `frame.insert` many times, which has poor performance.  Consider joining all columns at once using pd.concat(axis=1) instead. To get a de-fragmented frame, use `newframe = frame.copy()`\n",
      "  X['OP_UNIQUE_CARRIER_DL_boxcox'], lambda_ = boxcox(X['OP_UNIQUE_CARRIER_DL'] + 1)  #Top3 Feature\n",
      "/var/folders/06/6rnd9mvj2tg64m2vg9cssn0w0000gn/T/ipykernel_19069/172215960.py:6: PerformanceWarning: DataFrame is highly fragmented.  This is usually the result of calling `frame.insert` many times, which has poor performance.  Consider joining all columns at once using pd.concat(axis=1) instead. To get a de-fragmented frame, use `newframe = frame.copy()`\n",
      "  X['CRS_ELAPSED_TIME_boxcox'], lambda_ = boxcox(X['CRS_ELAPSED_TIME'] + 1)  #Top4 Feature\n",
      "/var/folders/06/6rnd9mvj2tg64m2vg9cssn0w0000gn/T/ipykernel_19069/172215960.py:7: PerformanceWarning: DataFrame is highly fragmented.  This is usually the result of calling `frame.insert` many times, which has poor performance.  Consider joining all columns at once using pd.concat(axis=1) instead. To get a de-fragmented frame, use `newframe = frame.copy()`\n",
      "  X['DISTANCE_boxcox'], lambda_ = boxcox(X['DISTANCE'] + 1)  #Top5 Feature\n",
      "/var/folders/06/6rnd9mvj2tg64m2vg9cssn0w0000gn/T/ipykernel_19069/172215960.py:8: PerformanceWarning: DataFrame is highly fragmented.  This is usually the result of calling `frame.insert` many times, which has poor performance.  Consider joining all columns at once using pd.concat(axis=1) instead. To get a de-fragmented frame, use `newframe = frame.copy()`\n",
      "  X['OP_UNIQUE_CARRIER_B6_boxcox'], lambda_ = boxcox(X['OP_UNIQUE_CARRIER_B6'] + 1)  #Top6  Feature\n",
      "/var/folders/06/6rnd9mvj2tg64m2vg9cssn0w0000gn/T/ipykernel_19069/172215960.py:10: PerformanceWarning: DataFrame is highly fragmented.  This is usually the result of calling `frame.insert` many times, which has poor performance.  Consider joining all columns at once using pd.concat(axis=1) instead. To get a de-fragmented frame, use `newframe = frame.copy()`\n",
      "  X['OP_UNIQUE_CARRIER_MQ_boxcox'], lambda_ = boxcox(X['OP_UNIQUE_CARRIER_MQ'] + 1)  #Top7  Feature\n",
      "/var/folders/06/6rnd9mvj2tg64m2vg9cssn0w0000gn/T/ipykernel_19069/172215960.py:11: PerformanceWarning: DataFrame is highly fragmented.  This is usually the result of calling `frame.insert` many times, which has poor performance.  Consider joining all columns at once using pd.concat(axis=1) instead. To get a de-fragmented frame, use `newframe = frame.copy()`\n",
      "  X['Wind_Speed_boxcox'], lambda_ = boxcox(X['Wind Speed'] + 1) #Top8  Feature\n",
      "/var/folders/06/6rnd9mvj2tg64m2vg9cssn0w0000gn/T/ipykernel_19069/172215960.py:12: PerformanceWarning: DataFrame is highly fragmented.  This is usually the result of calling `frame.insert` many times, which has poor performance.  Consider joining all columns at once using pd.concat(axis=1) instead. To get a de-fragmented frame, use `newframe = frame.copy()`\n",
      "  X['Pressure_boxcox'], lambda_ = boxcox(X['Pressure'] + 1) #Top7  Feature\n"
     ]
    }
   ],
   "source": [
    "from scipy.stats import boxcox\n",
    "X['sch_dep_boxcox'], lambda_ = boxcox(X['sch_dep'] + 1)  #Top1 Feature \n",
    "X['CRS_DEP_M_boxcox'], lambda_ = boxcox(X['CRS_DEP_M'] + 1) #Top2 Feature\n",
    "X['OP_UNIQUE_CARRIER_DL_boxcox'], lambda_ = boxcox(X['OP_UNIQUE_CARRIER_DL'] + 1)  #Top3 Feature\n",
    "\n",
    "X['CRS_ELAPSED_TIME_boxcox'], lambda_ = boxcox(X['CRS_ELAPSED_TIME'] + 1)  #Top4 Feature\n",
    "X['DISTANCE_boxcox'], lambda_ = boxcox(X['DISTANCE'] + 1)  #Top5 Feature\n",
    "X['OP_UNIQUE_CARRIER_B6_boxcox'], lambda_ = boxcox(X['OP_UNIQUE_CARRIER_B6'] + 1)  #Top6  Feature\n",
    "\n",
    "X['OP_UNIQUE_CARRIER_MQ_boxcox'], lambda_ = boxcox(X['OP_UNIQUE_CARRIER_MQ'] + 1)  #Top7  Feature\n",
    "X['Wind_Speed_boxcox'], lambda_ = boxcox(X['Wind Speed'] + 1) #Top8  Feature\n",
    "X['Pressure_boxcox'], lambda_ = boxcox(X['Pressure'] + 1) #Top7  Feature\n",
    "\n"
   ]
  },
  {
   "cell_type": "code",
   "execution_count": 147,
   "metadata": {},
   "outputs": [],
   "source": [
    "# Drop columns that are log transform\n",
    "X = X.drop(columns=[\n",
    "            'sch_dep',\n",
    "            'CRS_DEP_M',\n",
    "            'OP_UNIQUE_CARRIER_DL',  \n",
    "            'CRS_ELAPSED_TIME', \n",
    "            'DISTANCE',  \n",
    "            'OP_UNIQUE_CARRIER_B6', \n",
    "            'OP_UNIQUE_CARRIER_MQ', \n",
    "            'Wind Speed',  \n",
    "            'Pressure',\n",
    "])\n",
    "\n",
    "X = X.drop(columns=[\n",
    "            # 'sch_dep_boxcox',\n",
    "            # 'CRS_DEP_M_boxcox',\n",
    "            # 'OP_UNIQUE_CARRIER_DL_boxcox',  \n",
    "            # 'CRS_ELAPSED_TIME_boxcox', \n",
    "            # 'DISTANCE_boxcox',  \n",
    "            # 'OP_UNIQUE_CARRIER_B6_boxcox', \n",
    "            # 'OP_UNIQUE_CARRIER_MQ_boxcox', \n",
    "            # 'Wind Speed_boxcox',  \n",
    "            # 'Pressure_boxcox',\n",
    "])"
   ]
  },
  {
   "attachments": {},
   "cell_type": "markdown",
   "metadata": {},
   "source": [
    "### Comparsing F-Score of Log-Feature \n",
    "Check Feature Selection F-Score Again"
   ]
  },
  {
   "cell_type": "code",
   "execution_count": 148,
   "metadata": {},
   "outputs": [
    {
     "name": "stdout",
     "output_type": "stream",
     "text": [
      "Selected Features (New Comparsion):\n",
      "                       Feature     F-Score\n",
      "0               sch_dep_boxcox  237.463240\n",
      "3      CRS_ELAPSED_TIME_boxcox  174.266200\n",
      "1             CRS_DEP_M_boxcox  170.068593\n",
      "4              DISTANCE_boxcox  166.684792\n",
      "2  OP_UNIQUE_CARRIER_DL_boxcox  164.930311\n",
      "5  OP_UNIQUE_CARRIER_B6_boxcox  135.511615\n",
      "6  OP_UNIQUE_CARRIER_MQ_boxcox   71.619332\n",
      "7            Wind_Speed_boxcox   71.206083\n",
      "8              Pressure_boxcox   66.744081\n"
     ]
    }
   ],
   "source": [
    "from sklearn.feature_selection import SelectKBest, f_regression\n",
    "from sklearn.preprocessing import StandardScaler\n",
    "\n",
    "# Standardize numerical features\n",
    "scaler = StandardScaler()\n",
    "X_scaled = scaler.fit_transform(X)\n",
    "\n",
    "# Apply SelectKBest with f_regression\n",
    "k = k_num_features # Number of top features to select\n",
    "selector = SelectKBest(score_func=f_regression, k=k)\n",
    "X_selected = selector.fit_transform(X_scaled, y)\n",
    "\n",
    "# Get selected feature names\n",
    "selected_features = X.columns[selector.get_support()]\n",
    "feature_scores = selector.scores_[selector.get_support()]\n",
    "\n",
    "# Create a DataFrame with feature names and scores\n",
    "feature_df = pd.DataFrame({'Feature': selected_features, 'F-Score': feature_scores})\n",
    "feature_df = feature_df.sort_values(by='F-Score', ascending=False)\n",
    "\n",
    "# Print the selected features\n",
    "print(\"Selected Features (New Comparsion):\")\n",
    "print(feature_df)"
   ]
  },
  {
   "attachments": {},
   "cell_type": "markdown",
   "metadata": {},
   "source": [
    "### Split Training and Test Data 80:20"
   ]
  },
  {
   "cell_type": "code",
   "execution_count": 149,
   "metadata": {},
   "outputs": [],
   "source": [
    "from sklearn.model_selection import train_test_split \n",
    "# X needs to be updated \n",
    "\n",
    "X_train, X_test, y_train, y_test = train_test_split(X[feature_df['Feature']], y, test_size = 0.2, random_state = 27)"
   ]
  },
  {
   "cell_type": "code",
   "execution_count": 150,
   "metadata": {},
   "outputs": [],
   "source": [
    "# X_train"
   ]
  },
  {
   "cell_type": "code",
   "execution_count": 151,
   "metadata": {},
   "outputs": [],
   "source": [
    "from sklearn.preprocessing import StandardScaler\n",
    "sc = StandardScaler()\n",
    "X_train = sc.fit_transform(X_train)\n",
    "X_test = sc.transform(X_test)"
   ]
  },
  {
   "attachments": {},
   "cell_type": "markdown",
   "metadata": {},
   "source": [
    "### KNN Model"
   ]
  },
  {
   "cell_type": "code",
   "execution_count": 152,
   "metadata": {},
   "outputs": [
    {
     "data": {
      "text/html": [
       "<style>#sk-container-id-5 {color: black;background-color: white;}#sk-container-id-5 pre{padding: 0;}#sk-container-id-5 div.sk-toggleable {background-color: white;}#sk-container-id-5 label.sk-toggleable__label {cursor: pointer;display: block;width: 100%;margin-bottom: 0;padding: 0.3em;box-sizing: border-box;text-align: center;}#sk-container-id-5 label.sk-toggleable__label-arrow:before {content: \"▸\";float: left;margin-right: 0.25em;color: #696969;}#sk-container-id-5 label.sk-toggleable__label-arrow:hover:before {color: black;}#sk-container-id-5 div.sk-estimator:hover label.sk-toggleable__label-arrow:before {color: black;}#sk-container-id-5 div.sk-toggleable__content {max-height: 0;max-width: 0;overflow: hidden;text-align: left;background-color: #f0f8ff;}#sk-container-id-5 div.sk-toggleable__content pre {margin: 0.2em;color: black;border-radius: 0.25em;background-color: #f0f8ff;}#sk-container-id-5 input.sk-toggleable__control:checked~div.sk-toggleable__content {max-height: 200px;max-width: 100%;overflow: auto;}#sk-container-id-5 input.sk-toggleable__control:checked~label.sk-toggleable__label-arrow:before {content: \"▾\";}#sk-container-id-5 div.sk-estimator input.sk-toggleable__control:checked~label.sk-toggleable__label {background-color: #d4ebff;}#sk-container-id-5 div.sk-label input.sk-toggleable__control:checked~label.sk-toggleable__label {background-color: #d4ebff;}#sk-container-id-5 input.sk-hidden--visually {border: 0;clip: rect(1px 1px 1px 1px);clip: rect(1px, 1px, 1px, 1px);height: 1px;margin: -1px;overflow: hidden;padding: 0;position: absolute;width: 1px;}#sk-container-id-5 div.sk-estimator {font-family: monospace;background-color: #f0f8ff;border: 1px dotted black;border-radius: 0.25em;box-sizing: border-box;margin-bottom: 0.5em;}#sk-container-id-5 div.sk-estimator:hover {background-color: #d4ebff;}#sk-container-id-5 div.sk-parallel-item::after {content: \"\";width: 100%;border-bottom: 1px solid gray;flex-grow: 1;}#sk-container-id-5 div.sk-label:hover label.sk-toggleable__label {background-color: #d4ebff;}#sk-container-id-5 div.sk-serial::before {content: \"\";position: absolute;border-left: 1px solid gray;box-sizing: border-box;top: 0;bottom: 0;left: 50%;z-index: 0;}#sk-container-id-5 div.sk-serial {display: flex;flex-direction: column;align-items: center;background-color: white;padding-right: 0.2em;padding-left: 0.2em;position: relative;}#sk-container-id-5 div.sk-item {position: relative;z-index: 1;}#sk-container-id-5 div.sk-parallel {display: flex;align-items: stretch;justify-content: center;background-color: white;position: relative;}#sk-container-id-5 div.sk-item::before, #sk-container-id-5 div.sk-parallel-item::before {content: \"\";position: absolute;border-left: 1px solid gray;box-sizing: border-box;top: 0;bottom: 0;left: 50%;z-index: -1;}#sk-container-id-5 div.sk-parallel-item {display: flex;flex-direction: column;z-index: 1;position: relative;background-color: white;}#sk-container-id-5 div.sk-parallel-item:first-child::after {align-self: flex-end;width: 50%;}#sk-container-id-5 div.sk-parallel-item:last-child::after {align-self: flex-start;width: 50%;}#sk-container-id-5 div.sk-parallel-item:only-child::after {width: 0;}#sk-container-id-5 div.sk-dashed-wrapped {border: 1px dashed gray;margin: 0 0.4em 0.5em 0.4em;box-sizing: border-box;padding-bottom: 0.4em;background-color: white;}#sk-container-id-5 div.sk-label label {font-family: monospace;font-weight: bold;display: inline-block;line-height: 1.2em;}#sk-container-id-5 div.sk-label-container {text-align: center;}#sk-container-id-5 div.sk-container {/* jupyter's `normalize.less` sets `[hidden] { display: none; }` but bootstrap.min.css set `[hidden] { display: none !important; }` so we also need the `!important` here to be able to override the default hidden behavior on the sphinx rendered scikit-learn.org. See: https://github.com/scikit-learn/scikit-learn/issues/21755 */display: inline-block !important;position: relative;}#sk-container-id-5 div.sk-text-repr-fallback {display: none;}</style><div id=\"sk-container-id-5\" class=\"sk-top-container\"><div class=\"sk-text-repr-fallback\"><pre>KNeighborsRegressor(metric=&#x27;manhattan&#x27;, n_neighbors=19)</pre><b>In a Jupyter environment, please rerun this cell to show the HTML representation or trust the notebook. <br />On GitHub, the HTML representation is unable to render, please try loading this page with nbviewer.org.</b></div><div class=\"sk-container\" hidden><div class=\"sk-item\"><div class=\"sk-estimator sk-toggleable\"><input class=\"sk-toggleable__control sk-hidden--visually\" id=\"sk-estimator-id-5\" type=\"checkbox\" checked><label for=\"sk-estimator-id-5\" class=\"sk-toggleable__label sk-toggleable__label-arrow\">KNeighborsRegressor</label><div class=\"sk-toggleable__content\"><pre>KNeighborsRegressor(metric=&#x27;manhattan&#x27;, n_neighbors=19)</pre></div></div></div></div></div>"
      ],
      "text/plain": [
       "KNeighborsRegressor(metric='manhattan', n_neighbors=19)"
      ]
     },
     "execution_count": 152,
     "metadata": {},
     "output_type": "execute_result"
    }
   ],
   "source": [
    "from sklearn.neighbors import KNeighborsRegressor\n",
    "regressor = KNeighborsRegressor(n_neighbors=19, metric='manhattan')\n",
    "# regressor = KNeighborsRegressor(n_neighbors=19, metric='euclidean')\n",
    "\n",
    "regressor.fit(X_train, y_train)"
   ]
  },
  {
   "attachments": {},
   "cell_type": "markdown",
   "metadata": {},
   "source": [
    "### Results (MSE, MAE,  Predic vs Acutal Graph)"
   ]
  },
  {
   "cell_type": "code",
   "execution_count": 153,
   "metadata": {},
   "outputs": [],
   "source": [
    "y_pred_boxcox = regressor.predict(X_test)\n",
    "\n",
    "# Reverse Box-Cox Transformation\n",
    "if lambda_ == 0:\n",
    "    y_pred = np.exp(y_pred_boxcox)  # If λ = 0, use exp()\n",
    "else:\n",
    "    y_pred = (y_pred_boxcox * lambda_ + 1) ** (1 / lambda_)  # General inverse Box-Cox formula\n"
   ]
  },
  {
   "cell_type": "code",
   "execution_count": 154,
   "metadata": {},
   "outputs": [
    {
     "name": "stdout",
     "output_type": "stream",
     "text": [
      "\n",
      "Model Performance Metrics:\n",
      "Mean Squared Error (MSE): 2.31\n",
      "Mean Absolute Error (MAE): 1.26\n"
     ]
    }
   ],
   "source": [
    "from sklearn.metrics import mean_squared_error, mean_absolute_error, r2_score\n",
    "\n",
    "mse = mean_squared_error(y_test, y_pred)\n",
    "mae = mean_absolute_error(y_test, y_pred)\n",
    "r2 = r2_score(y_test, y_pred)\n",
    "\n",
    "print(\"\\nModel Performance Metrics:\")\n",
    "print(f\"Mean Squared Error (MSE): {mse:.2f}\")\n",
    "print(f\"Mean Absolute Error (MAE): {mae:.2f}\")\n",
    "# print(f\"R-Squared (R2): {r2:.4f}\")"
   ]
  },
  {
   "cell_type": "code",
   "execution_count": 155,
   "metadata": {},
   "outputs": [
    {
     "data": {
      "image/png": "[encoded data removed]",
      "text/plain": [
       "<Figure size 800x600 with 1 Axes>"
      ]
     },
     "metadata": {},
     "output_type": "display_data"
    }
   ],
   "source": [
    "plt.figure(figsize=(8, 6))\n",
    "plt.scatter(y_test, y_pred, color='blue', alpha=0.5, label=\"Predicted vs Actual\")\n",
    "plt.plot([min(y_test), max(y_test)], [min(y_test), max(y_test)], color='red', linestyle='--', label=\"Perfect Fit\")\n",
    "\n",
    "plt.xlabel(\"Actual Flight Delay\")\n",
    "plt.ylabel(\"Predicted Flight Delay\")\n",
    "plt.title(\"Actual vs Predicted Flight Delay (KNN Regression)\")\n",
    "plt.legend()\n",
    "plt.grid(True)\n",
    "plt.show()"
   ]
  },
  {
   "cell_type": "code",
   "execution_count": 156,
   "metadata": {},
   "outputs": [],
   "source": [
    "# from sklearn.model_selection import GridSearchCV\n",
    "\n",
    "# param_grid = {'n_neighbors': range(3, 21, 2)}\n",
    "# grid = GridSearchCV(KNeighborsRegressor(), param_grid, cv=5, scoring='r2')\n",
    "# grid.fit(X_train, y_train)\n",
    "# print(\"Best k:\", grid.best_params_)"
   ]
  }
 ],
 "metadata": {
  "kernelspec": {
   "display_name": "base",
   "language": "python",
   "name": "python3"
  },
  "language_info": {
   "codemirror_mode": {
    "name": "ipython",
    "version": 3
   },
   "file_extension": ".py",
   "mimetype": "text/x-python",
   "name": "python",
   "nbconvert_exporter": "python",
   "pygments_lexer": "ipython3",
   "version": "3.10.9"
  },
  "vscode": {
   "interpreter": {
    "hash": "ec5ac13b6a65dbb336febcea5a6102df125651a3743895472026e6d8a7f60689"
   }
  }
 },
 "nbformat": 4,
 "nbformat_minor": 2
}
