{
 "cells": [
  {
   "cell_type": "markdown",
   "metadata": {},
   "source": [
    "# Cleaning / Preprocessing "
   ]
  },
  {
   "cell_type": "code",
   "execution_count": 3,
   "metadata": {},
   "outputs": [],
   "source": [
    "  # import modules \n",
    "import pandas as pd\n",
    "import numpy as np\n",
    "%matplotlib inline"
   ]
  },
  {
   "cell_type": "code",
   "execution_count": 4,
   "metadata": {},
   "outputs": [
    {
     "name": "stdout",
     "output_type": "stream",
     "text": [
      "<class 'pandas.core.frame.DataFrame'>\n",
      "RangeIndex: 28820 entries, 0 to 28819\n",
      "Data columns (total 23 columns):\n",
      " #   Column             Non-Null Count  Dtype  \n",
      "---  ------             --------------  -----  \n",
      " 0   MONTH              28820 non-null  int64  \n",
      " 1   DAY_OF_MONTH       28820 non-null  int64  \n",
      " 2   DAY_OF_WEEK        28820 non-null  int64  \n",
      " 3   OP_UNIQUE_CARRIER  28820 non-null  object \n",
      " 4   TAIL_NUM           28820 non-null  object \n",
      " 5   DEST               28820 non-null  object \n",
      " 6   DEP_DELAY          28820 non-null  int64  \n",
      " 7   CRS_ELAPSED_TIME   28820 non-null  int64  \n",
      " 8   DISTANCE           28820 non-null  int64  \n",
      " 9   CRS_DEP_M          28820 non-null  int64  \n",
      " 10  DEP_TIME_M         28820 non-null  int64  \n",
      " 11  CRS_ARR_M          28820 non-null  int64  \n",
      " 12  Temperature        28820 non-null  int64  \n",
      " 13  Dew Point          28820 non-null  object \n",
      " 14  Humidity           28820 non-null  int64  \n",
      " 15  Wind               28818 non-null  object \n",
      " 16  Wind Speed         28820 non-null  int64  \n",
      " 17  Wind Gust          28820 non-null  int64  \n",
      " 18  Pressure           28820 non-null  float64\n",
      " 19  Condition          28820 non-null  object \n",
      " 20  sch_dep            28820 non-null  int64  \n",
      " 21  sch_arr            28820 non-null  int64  \n",
      " 22  TAXI_OUT           28820 non-null  int64  \n",
      "dtypes: float64(1), int64(16), object(6)\n",
      "memory usage: 5.1+ MB\n"
     ]
    }
   ],
   "source": [
    "df = pd.read_csv('../flight-delay-dataset.csv')\n",
    "df.info()"
   ]
  },
  {
   "cell_type": "code",
   "execution_count": 5,
   "metadata": {},
   "outputs": [
    {
     "data": {
      "text/plain": [
       "Index(['MONTH', 'DAY_OF_MONTH', 'DAY_OF_WEEK', 'OP_UNIQUE_CARRIER', 'TAIL_NUM',\n",
       "       'DEST', 'DEP_DELAY', 'CRS_ELAPSED_TIME', 'DISTANCE', 'CRS_DEP_M',\n",
       "       'DEP_TIME_M', 'CRS_ARR_M', 'Temperature', 'Dew Point', 'Humidity',\n",
       "       'Wind', 'Wind Speed', 'Wind Gust', 'Pressure', 'Condition', 'sch_dep',\n",
       "       'sch_arr', 'TAXI_OUT'],\n",
       "      dtype='object')"
      ]
     },
     "execution_count": 5,
     "metadata": {},
     "output_type": "execute_result"
    }
   ],
   "source": [
    "df.columns"
   ]
  },
  {
   "cell_type": "markdown",
   "metadata": {},
   "source": [
    "## Flight Delay Prediction Variables\n",
    "\n",
    "#### Independent Variables (X)\n",
    "- **Time-related:**\n",
    "  - `MONTH`\n",
    "  - `DAY_OF_MONTH` \n",
    "  - `DAY_OF_WEEK`\n",
    "  - `CRS_DEP_M` (Scheduled departure time in minutes)\n",
    "  - `CRS_ARR_M` (Scheduled arrival time in minutes)\n",
    "  - `sch_dep` (Scheduled departure)\n",
    "\n",
    "- **Flight-specific:**\n",
    "  - `OP_UNIQUE_CARRIER` (Airline)\n",
    "  - `TAIL_NUM` (Aircraft identifier)\n",
    "  - `DEST` (Destination airport)\n",
    "  - `CRS_ELAPSED_TIME` (Scheduled flight duration)\n",
    "  - `DISTANCE` (Flight distance)\n",
    "\n",
    "- **Weather conditions:**\n",
    "  - `Temperature`\n",
    "  - `Dew Point`\n",
    "  - `Humidity`\n",
    "  - `Wind Speed`\n",
    "  - `Wind Gust`\n",
    "  - `Pressure`\n",
    "  - `Condition`\n",
    "\n",
    "#### Dependent Variable (y)\n",
    "- `DEP_DELAY`: Runway taxi-out time\n",
    "  - **Binary classification target:**\n",
    "    - 1 = Delayed (DEP_DELAY ≥ 15 minutes)\n",
    "    - 0 = Not delayed (DEP_DELAY < 15 minutes)"
   ]
  },
  {
   "cell_type": "code",
   "execution_count": 6,
   "metadata": {},
   "outputs": [
    {
     "data": {
      "text/plain": [
       "MONTH                  int64\n",
       "DAY_OF_MONTH           int64\n",
       "DAY_OF_WEEK            int64\n",
       "OP_UNIQUE_CARRIER     object\n",
       "DEST                  object\n",
       "CRS_ELAPSED_TIME       int64\n",
       "DISTANCE               int64\n",
       "CRS_DEP_M              int64\n",
       "CRS_ARR_M              int64\n",
       "Temperature            int64\n",
       "Dew Point             object\n",
       "Humidity               int64\n",
       "Wind Speed             int64\n",
       "Wind Gust              int64\n",
       "Pressure             float64\n",
       "Condition             object\n",
       "sch_dep                int64\n",
       "DEP_DELAY              int64\n",
       "dtype: object"
      ]
     },
     "execution_count": 6,
     "metadata": {},
     "output_type": "execute_result"
    }
   ],
   "source": [
    "X = df[['MONTH', 'DAY_OF_MONTH', 'DAY_OF_WEEK', 'OP_UNIQUE_CARRIER', #'TAIL_NUM', \n",
    "        'DEST', 'CRS_ELAPSED_TIME', 'DISTANCE', 'CRS_DEP_M', 'CRS_ARR_M','Temperature', 'Dew Point', 'Humidity', 'Wind Speed', 'Wind Gust', 'Pressure', 'Condition', 'sch_dep', 'DEP_DELAY']]\n",
    "X.dtypes"
   ]
  },
  {
   "cell_type": "code",
   "execution_count": 7,
   "metadata": {},
   "outputs": [
    {
     "name": "stderr",
     "output_type": "stream",
     "text": [
      "C:\\Users\\Cole\\AppData\\Local\\Temp\\ipykernel_18204\\440337450.py:2: SettingWithCopyWarning: \n",
      "A value is trying to be set on a copy of a slice from a DataFrame.\n",
      "Try using .loc[row_indexer,col_indexer] = value instead\n",
      "\n",
      "See the caveats in the documentation: https://pandas.pydata.org/pandas-docs/stable/user_guide/indexing.html#returning-a-view-versus-a-copy\n",
      "  X['Dew Point'] = X['Dew Point'].astype(int)\n"
     ]
    }
   ],
   "source": [
    "#Convert dew_point to int\n",
    "X['Dew Point'] = X['Dew Point'].astype(int)"
   ]
  },
  {
   "cell_type": "code",
   "execution_count": 8,
   "metadata": {},
   "outputs": [
    {
     "data": {
      "text/plain": [
       "False    28820\n",
       "Name: count, dtype: int64"
      ]
     },
     "execution_count": 8,
     "metadata": {},
     "output_type": "execute_result"
    }
   ],
   "source": [
    "X.isna().sum()\n",
    "#TODO: Check for duplicated\n",
    "X.duplicated().value_counts()"
   ]
  },
  {
   "cell_type": "markdown",
   "metadata": {},
   "source": [
    "#### Encode all non numeric-values"
   ]
  },
  {
   "cell_type": "code",
   "execution_count": 9,
   "metadata": {},
   "outputs": [],
   "source": [
    "columns_to_encode = ['OP_UNIQUE_CARRIER', #'TAIL_NUM', \n",
    "                     'DEST', 'Condition']\n",
    "X_encoded = pd.get_dummies(X, columns=columns_to_encode, drop_first=True)\n",
    "X_encoded.to_csv(\"cleaned_flight_data_with_target.csv\", index=False)"
   ]
  }
 ],
 "metadata": {
  "kernelspec": {
   "display_name": "Python 3",
   "language": "python",
   "name": "python3"
  },
  "language_info": {
   "codemirror_mode": {
    "name": "ipython",
    "version": 3
   },
   "file_extension": ".py",
   "mimetype": "text/x-python",
   "name": "python",
   "nbconvert_exporter": "python",
   "pygments_lexer": "ipython3",
   "version": "3.12.9"
  }
 },
 "nbformat": 4,
 "nbformat_minor": 2
}
