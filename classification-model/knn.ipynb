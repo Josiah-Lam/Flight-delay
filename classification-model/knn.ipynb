{
 "cells": [
  {
   "attachments": {},
   "cell_type": "markdown",
   "metadata": {},
   "source": [
    "# Knn Regression\n",
    "\n",
    "1. Choose K (the number of clusters you want).\n",
    "\n",
    "2. Initialize K centroids randomly.\n",
    "\n",
    "3. Repeat until convergence:\n",
    "   a. Assign each data point to the nearest centroid.\n",
    "   b. Recalculate the centroids based on the current assignment of data points.\n",
    "   \n",
    "4. Return the final K centroids and the corresponding cluster assignments.\n"
   ]
  },
  {
   "cell_type": "code",
   "execution_count": 517,
   "metadata": {},
   "outputs": [],
   "source": [
    "# import modules \n",
    "import pandas as pd\n",
    "import matplotlib.pyplot as plt\n",
    "import numpy as np\n",
    "%matplotlib inline "
   ]
  },
  {
   "cell_type": "code",
   "execution_count": 518,
   "metadata": {},
   "outputs": [],
   "source": [
    "df = pd.read_csv('../cleaning-preprocessing/cleaned_flight_data_with_target.csv')\n",
    "# df.head(5)"
   ]
  },
  {
   "cell_type": "code",
   "execution_count": 519,
   "metadata": {},
   "outputs": [],
   "source": [
    "df = df.astype(int)\n",
    "# df.head(5)"
   ]
  },
  {
   "cell_type": "code",
   "execution_count": 520,
   "metadata": {},
   "outputs": [
    {
     "data": {
      "text/plain": [
       "0    -1\n",
       "1    -7\n",
       "2    40\n",
       "3    -2\n",
       "4    -4\n",
       "5    -1\n",
       "6    -1\n",
       "7    -5\n",
       "8     0\n",
       "9     3\n",
       "Name: DEP_DELAY, dtype: int64"
      ]
     },
     "execution_count": 520,
     "metadata": {},
     "output_type": "execute_result"
    }
   ],
   "source": [
    "X = df.drop(columns=['DEP_DELAY'])  # Feature matrix\n",
    "y = df['DEP_DELAY']  # Target variable\n",
    "\n",
    "y.head(10)"
   ]
  },
  {
   "cell_type": "markdown",
   "metadata": {},
   "source": [
    "### Feature Selection"
   ]
  },
  {
   "cell_type": "code",
   "execution_count": 521,
   "metadata": {},
   "outputs": [
    {
     "name": "stdout",
     "output_type": "stream",
     "text": [
      "Selected Features:\n",
      "                            Feature     F-Score\n",
      "2                         CRS_DEP_M  305.282414\n",
      "5                        Wind Speed  132.760726\n",
      "8                           sch_dep  123.988098\n",
      "7                          Pressure   80.475920\n",
      "0                             MONTH   62.326500\n",
      "6                         Wind Gust   56.768934\n",
      "3                         CRS_ARR_M   55.116001\n",
      "13     Condition_Light Snow / Windy   52.564230\n",
      "10                         DEST_LAX   38.766920\n",
      "1                      DAY_OF_MONTH   38.692254\n",
      "14  Condition_Partly Cloudy / Windy   36.341232\n",
      "11         Condition_Cloudy / Windy   34.950086\n",
      "12             Condition_Heavy Rain   30.852279\n",
      "4                       Temperature   30.023830\n",
      "9              OP_UNIQUE_CARRIER_B6   28.825082\n"
     ]
    }
   ],
   "source": [
    "from sklearn.feature_selection import SelectKBest, f_regression\n",
    "from sklearn.preprocessing import StandardScaler\n",
    "\n",
    "# Standardize numerical features\n",
    "scaler = StandardScaler()\n",
    "X_scaled = scaler.fit_transform(X)\n",
    "\n",
    "# Apply SelectKBest with f_regression\n",
    "k = 15  # Number of top features to select\n",
    "selector = SelectKBest(score_func=f_regression, k=k)\n",
    "X_selected = selector.fit_transform(X_scaled, y)\n",
    "\n",
    "# Get selected feature names\n",
    "selected_features = X.columns[selector.get_support()]\n",
    "feature_scores = selector.scores_[selector.get_support()]\n",
    "\n",
    "# Create a DataFrame with feature names and scores\n",
    "feature_df = pd.DataFrame({'Feature': selected_features, 'F-Score': feature_scores})\n",
    "feature_df = feature_df.sort_values(by='F-Score', ascending=False)\n",
    "\n",
    "# Print the selected features\n",
    "print(\"Selected Features:\")\n",
    "print(feature_df)\n",
    "# print(feature_df['Feature'])\n"
   ]
  },
  {
   "cell_type": "code",
   "execution_count": 522,
   "metadata": {},
   "outputs": [],
   "source": [
    "from sklearn.model_selection import train_test_split \n",
    "X_train, X_test, y_train, y_test = train_test_split(X[feature_df['Feature']], y, test_size = 0.25, random_state = 0)"
   ]
  },
  {
   "cell_type": "code",
   "execution_count": 523,
   "metadata": {},
   "outputs": [
    {
     "data": {
      "text/html": [
       "<div>\n",
       "<style scoped>\n",
       "    .dataframe tbody tr th:only-of-type {\n",
       "        vertical-align: middle;\n",
       "    }\n",
       "\n",
       "    .dataframe tbody tr th {\n",
       "        vertical-align: top;\n",
       "    }\n",
       "\n",
       "    .dataframe thead th {\n",
       "        text-align: right;\n",
       "    }\n",
       "</style>\n",
       "<table border=\"1\" class=\"dataframe\">\n",
       "  <thead>\n",
       "    <tr style=\"text-align: right;\">\n",
       "      <th></th>\n",
       "      <th>CRS_DEP_M</th>\n",
       "      <th>Wind Speed</th>\n",
       "      <th>sch_dep</th>\n",
       "      <th>Pressure</th>\n",
       "      <th>MONTH</th>\n",
       "      <th>Wind Gust</th>\n",
       "      <th>CRS_ARR_M</th>\n",
       "      <th>Condition_Light Snow / Windy</th>\n",
       "      <th>DEST_LAX</th>\n",
       "      <th>DAY_OF_MONTH</th>\n",
       "      <th>Condition_Partly Cloudy / Windy</th>\n",
       "      <th>Condition_Cloudy / Windy</th>\n",
       "      <th>Condition_Heavy Rain</th>\n",
       "      <th>Temperature</th>\n",
       "      <th>OP_UNIQUE_CARRIER_B6</th>\n",
       "    </tr>\n",
       "  </thead>\n",
       "  <tbody>\n",
       "    <tr>\n",
       "      <th>5823</th>\n",
       "      <td>1077</td>\n",
       "      <td>9</td>\n",
       "      <td>35</td>\n",
       "      <td>29</td>\n",
       "      <td>11</td>\n",
       "      <td>18</td>\n",
       "      <td>1279</td>\n",
       "      <td>0</td>\n",
       "      <td>0</td>\n",
       "      <td>18</td>\n",
       "      <td>0</td>\n",
       "      <td>0</td>\n",
       "      <td>0</td>\n",
       "      <td>40</td>\n",
       "      <td>1</td>\n",
       "    </tr>\n",
       "    <tr>\n",
       "      <th>897</th>\n",
       "      <td>1375</td>\n",
       "      <td>12</td>\n",
       "      <td>21</td>\n",
       "      <td>30</td>\n",
       "      <td>11</td>\n",
       "      <td>0</td>\n",
       "      <td>18</td>\n",
       "      <td>0</td>\n",
       "      <td>0</td>\n",
       "      <td>3</td>\n",
       "      <td>0</td>\n",
       "      <td>0</td>\n",
       "      <td>0</td>\n",
       "      <td>48</td>\n",
       "      <td>1</td>\n",
       "    </tr>\n",
       "    <tr>\n",
       "      <th>2739</th>\n",
       "      <td>899</td>\n",
       "      <td>10</td>\n",
       "      <td>26</td>\n",
       "      <td>30</td>\n",
       "      <td>11</td>\n",
       "      <td>0</td>\n",
       "      <td>1050</td>\n",
       "      <td>0</td>\n",
       "      <td>0</td>\n",
       "      <td>9</td>\n",
       "      <td>0</td>\n",
       "      <td>0</td>\n",
       "      <td>0</td>\n",
       "      <td>39</td>\n",
       "      <td>1</td>\n",
       "    </tr>\n",
       "    <tr>\n",
       "      <th>6162</th>\n",
       "      <td>1035</td>\n",
       "      <td>12</td>\n",
       "      <td>30</td>\n",
       "      <td>29</td>\n",
       "      <td>11</td>\n",
       "      <td>0</td>\n",
       "      <td>1259</td>\n",
       "      <td>0</td>\n",
       "      <td>0</td>\n",
       "      <td>19</td>\n",
       "      <td>0</td>\n",
       "      <td>0</td>\n",
       "      <td>0</td>\n",
       "      <td>46</td>\n",
       "      <td>0</td>\n",
       "    </tr>\n",
       "    <tr>\n",
       "      <th>2503</th>\n",
       "      <td>1125</td>\n",
       "      <td>22</td>\n",
       "      <td>39</td>\n",
       "      <td>30</td>\n",
       "      <td>11</td>\n",
       "      <td>30</td>\n",
       "      <td>1282</td>\n",
       "      <td>0</td>\n",
       "      <td>0</td>\n",
       "      <td>8</td>\n",
       "      <td>0</td>\n",
       "      <td>0</td>\n",
       "      <td>0</td>\n",
       "      <td>34</td>\n",
       "      <td>0</td>\n",
       "    </tr>\n",
       "    <tr>\n",
       "      <th>...</th>\n",
       "      <td>...</td>\n",
       "      <td>...</td>\n",
       "      <td>...</td>\n",
       "      <td>...</td>\n",
       "      <td>...</td>\n",
       "      <td>...</td>\n",
       "      <td>...</td>\n",
       "      <td>...</td>\n",
       "      <td>...</td>\n",
       "      <td>...</td>\n",
       "      <td>...</td>\n",
       "      <td>...</td>\n",
       "      <td>...</td>\n",
       "      <td>...</td>\n",
       "      <td>...</td>\n",
       "    </tr>\n",
       "    <tr>\n",
       "      <th>13123</th>\n",
       "      <td>420</td>\n",
       "      <td>5</td>\n",
       "      <td>19</td>\n",
       "      <td>30</td>\n",
       "      <td>12</td>\n",
       "      <td>0</td>\n",
       "      <td>565</td>\n",
       "      <td>0</td>\n",
       "      <td>0</td>\n",
       "      <td>13</td>\n",
       "      <td>0</td>\n",
       "      <td>0</td>\n",
       "      <td>0</td>\n",
       "      <td>38</td>\n",
       "      <td>0</td>\n",
       "    </tr>\n",
       "    <tr>\n",
       "      <th>19648</th>\n",
       "      <td>525</td>\n",
       "      <td>8</td>\n",
       "      <td>54</td>\n",
       "      <td>29</td>\n",
       "      <td>1</td>\n",
       "      <td>0</td>\n",
       "      <td>671</td>\n",
       "      <td>0</td>\n",
       "      <td>0</td>\n",
       "      <td>3</td>\n",
       "      <td>0</td>\n",
       "      <td>0</td>\n",
       "      <td>0</td>\n",
       "      <td>44</td>\n",
       "      <td>0</td>\n",
       "    </tr>\n",
       "    <tr>\n",
       "      <th>9845</th>\n",
       "      <td>515</td>\n",
       "      <td>13</td>\n",
       "      <td>53</td>\n",
       "      <td>29</td>\n",
       "      <td>12</td>\n",
       "      <td>0</td>\n",
       "      <td>807</td>\n",
       "      <td>0</td>\n",
       "      <td>0</td>\n",
       "      <td>1</td>\n",
       "      <td>0</td>\n",
       "      <td>0</td>\n",
       "      <td>0</td>\n",
       "      <td>32</td>\n",
       "      <td>0</td>\n",
       "    </tr>\n",
       "    <tr>\n",
       "      <th>10799</th>\n",
       "      <td>580</td>\n",
       "      <td>15</td>\n",
       "      <td>32</td>\n",
       "      <td>29</td>\n",
       "      <td>12</td>\n",
       "      <td>0</td>\n",
       "      <td>675</td>\n",
       "      <td>0</td>\n",
       "      <td>0</td>\n",
       "      <td>5</td>\n",
       "      <td>0</td>\n",
       "      <td>0</td>\n",
       "      <td>0</td>\n",
       "      <td>42</td>\n",
       "      <td>0</td>\n",
       "    </tr>\n",
       "    <tr>\n",
       "      <th>2732</th>\n",
       "      <td>885</td>\n",
       "      <td>9</td>\n",
       "      <td>26</td>\n",
       "      <td>30</td>\n",
       "      <td>11</td>\n",
       "      <td>0</td>\n",
       "      <td>1041</td>\n",
       "      <td>0</td>\n",
       "      <td>0</td>\n",
       "      <td>9</td>\n",
       "      <td>0</td>\n",
       "      <td>0</td>\n",
       "      <td>0</td>\n",
       "      <td>40</td>\n",
       "      <td>1</td>\n",
       "    </tr>\n",
       "  </tbody>\n",
       "</table>\n",
       "<p>21615 rows × 15 columns</p>\n",
       "</div>"
      ],
      "text/plain": [
       "       CRS_DEP_M  Wind Speed  sch_dep  Pressure  MONTH  Wind Gust  CRS_ARR_M  \\\n",
       "5823        1077           9       35        29     11         18       1279   \n",
       "897         1375          12       21        30     11          0         18   \n",
       "2739         899          10       26        30     11          0       1050   \n",
       "6162        1035          12       30        29     11          0       1259   \n",
       "2503        1125          22       39        30     11         30       1282   \n",
       "...          ...         ...      ...       ...    ...        ...        ...   \n",
       "13123        420           5       19        30     12          0        565   \n",
       "19648        525           8       54        29      1          0        671   \n",
       "9845         515          13       53        29     12          0        807   \n",
       "10799        580          15       32        29     12          0        675   \n",
       "2732         885           9       26        30     11          0       1041   \n",
       "\n",
       "       Condition_Light Snow / Windy  DEST_LAX  DAY_OF_MONTH  \\\n",
       "5823                              0         0            18   \n",
       "897                               0         0             3   \n",
       "2739                              0         0             9   \n",
       "6162                              0         0            19   \n",
       "2503                              0         0             8   \n",
       "...                             ...       ...           ...   \n",
       "13123                             0         0            13   \n",
       "19648                             0         0             3   \n",
       "9845                              0         0             1   \n",
       "10799                             0         0             5   \n",
       "2732                              0         0             9   \n",
       "\n",
       "       Condition_Partly Cloudy / Windy  Condition_Cloudy / Windy  \\\n",
       "5823                                 0                         0   \n",
       "897                                  0                         0   \n",
       "2739                                 0                         0   \n",
       "6162                                 0                         0   \n",
       "2503                                 0                         0   \n",
       "...                                ...                       ...   \n",
       "13123                                0                         0   \n",
       "19648                                0                         0   \n",
       "9845                                 0                         0   \n",
       "10799                                0                         0   \n",
       "2732                                 0                         0   \n",
       "\n",
       "       Condition_Heavy Rain  Temperature  OP_UNIQUE_CARRIER_B6  \n",
       "5823                      0           40                     1  \n",
       "897                       0           48                     1  \n",
       "2739                      0           39                     1  \n",
       "6162                      0           46                     0  \n",
       "2503                      0           34                     0  \n",
       "...                     ...          ...                   ...  \n",
       "13123                     0           38                     0  \n",
       "19648                     0           44                     0  \n",
       "9845                      0           32                     0  \n",
       "10799                     0           42                     0  \n",
       "2732                      0           40                     1  \n",
       "\n",
       "[21615 rows x 15 columns]"
      ]
     },
     "execution_count": 523,
     "metadata": {},
     "output_type": "execute_result"
    }
   ],
   "source": [
    "X_train"
   ]
  },
  {
   "cell_type": "code",
   "execution_count": 524,
   "metadata": {},
   "outputs": [],
   "source": [
    "from sklearn.preprocessing import StandardScaler\n",
    "sc = StandardScaler()\n",
    "X_train = sc.fit_transform(X_train)\n",
    "X_test = sc.transform(X_test)"
   ]
  },
  {
   "cell_type": "code",
   "execution_count": 525,
   "metadata": {},
   "outputs": [
    {
     "data": {
      "text/html": [
       "<style>#sk-container-id-30 {color: black;background-color: white;}#sk-container-id-30 pre{padding: 0;}#sk-container-id-30 div.sk-toggleable {background-color: white;}#sk-container-id-30 label.sk-toggleable__label {cursor: pointer;display: block;width: 100%;margin-bottom: 0;padding: 0.3em;box-sizing: border-box;text-align: center;}#sk-container-id-30 label.sk-toggleable__label-arrow:before {content: \"▸\";float: left;margin-right: 0.25em;color: #696969;}#sk-container-id-30 label.sk-toggleable__label-arrow:hover:before {color: black;}#sk-container-id-30 div.sk-estimator:hover label.sk-toggleable__label-arrow:before {color: black;}#sk-container-id-30 div.sk-toggleable__content {max-height: 0;max-width: 0;overflow: hidden;text-align: left;background-color: #f0f8ff;}#sk-container-id-30 div.sk-toggleable__content pre {margin: 0.2em;color: black;border-radius: 0.25em;background-color: #f0f8ff;}#sk-container-id-30 input.sk-toggleable__control:checked~div.sk-toggleable__content {max-height: 200px;max-width: 100%;overflow: auto;}#sk-container-id-30 input.sk-toggleable__control:checked~label.sk-toggleable__label-arrow:before {content: \"▾\";}#sk-container-id-30 div.sk-estimator input.sk-toggleable__control:checked~label.sk-toggleable__label {background-color: #d4ebff;}#sk-container-id-30 div.sk-label input.sk-toggleable__control:checked~label.sk-toggleable__label {background-color: #d4ebff;}#sk-container-id-30 input.sk-hidden--visually {border: 0;clip: rect(1px 1px 1px 1px);clip: rect(1px, 1px, 1px, 1px);height: 1px;margin: -1px;overflow: hidden;padding: 0;position: absolute;width: 1px;}#sk-container-id-30 div.sk-estimator {font-family: monospace;background-color: #f0f8ff;border: 1px dotted black;border-radius: 0.25em;box-sizing: border-box;margin-bottom: 0.5em;}#sk-container-id-30 div.sk-estimator:hover {background-color: #d4ebff;}#sk-container-id-30 div.sk-parallel-item::after {content: \"\";width: 100%;border-bottom: 1px solid gray;flex-grow: 1;}#sk-container-id-30 div.sk-label:hover label.sk-toggleable__label {background-color: #d4ebff;}#sk-container-id-30 div.sk-serial::before {content: \"\";position: absolute;border-left: 1px solid gray;box-sizing: border-box;top: 0;bottom: 0;left: 50%;z-index: 0;}#sk-container-id-30 div.sk-serial {display: flex;flex-direction: column;align-items: center;background-color: white;padding-right: 0.2em;padding-left: 0.2em;position: relative;}#sk-container-id-30 div.sk-item {position: relative;z-index: 1;}#sk-container-id-30 div.sk-parallel {display: flex;align-items: stretch;justify-content: center;background-color: white;position: relative;}#sk-container-id-30 div.sk-item::before, #sk-container-id-30 div.sk-parallel-item::before {content: \"\";position: absolute;border-left: 1px solid gray;box-sizing: border-box;top: 0;bottom: 0;left: 50%;z-index: -1;}#sk-container-id-30 div.sk-parallel-item {display: flex;flex-direction: column;z-index: 1;position: relative;background-color: white;}#sk-container-id-30 div.sk-parallel-item:first-child::after {align-self: flex-end;width: 50%;}#sk-container-id-30 div.sk-parallel-item:last-child::after {align-self: flex-start;width: 50%;}#sk-container-id-30 div.sk-parallel-item:only-child::after {width: 0;}#sk-container-id-30 div.sk-dashed-wrapped {border: 1px dashed gray;margin: 0 0.4em 0.5em 0.4em;box-sizing: border-box;padding-bottom: 0.4em;background-color: white;}#sk-container-id-30 div.sk-label label {font-family: monospace;font-weight: bold;display: inline-block;line-height: 1.2em;}#sk-container-id-30 div.sk-label-container {text-align: center;}#sk-container-id-30 div.sk-container {/* jupyter's `normalize.less` sets `[hidden] { display: none; }` but bootstrap.min.css set `[hidden] { display: none !important; }` so we also need the `!important` here to be able to override the default hidden behavior on the sphinx rendered scikit-learn.org. See: https://github.com/scikit-learn/scikit-learn/issues/21755 */display: inline-block !important;position: relative;}#sk-container-id-30 div.sk-text-repr-fallback {display: none;}</style><div id=\"sk-container-id-30\" class=\"sk-top-container\"><div class=\"sk-text-repr-fallback\"><pre>KNeighborsRegressor(metric=&#x27;manhattan&#x27;, n_neighbors=19)</pre><b>In a Jupyter environment, please rerun this cell to show the HTML representation or trust the notebook. <br />On GitHub, the HTML representation is unable to render, please try loading this page with nbviewer.org.</b></div><div class=\"sk-container\" hidden><div class=\"sk-item\"><div class=\"sk-estimator sk-toggleable\"><input class=\"sk-toggleable__control sk-hidden--visually\" id=\"sk-estimator-id-30\" type=\"checkbox\" checked><label for=\"sk-estimator-id-30\" class=\"sk-toggleable__label sk-toggleable__label-arrow\">KNeighborsRegressor</label><div class=\"sk-toggleable__content\"><pre>KNeighborsRegressor(metric=&#x27;manhattan&#x27;, n_neighbors=19)</pre></div></div></div></div></div>"
      ],
      "text/plain": [
       "KNeighborsRegressor(metric='manhattan', n_neighbors=19)"
      ]
     },
     "execution_count": 525,
     "metadata": {},
     "output_type": "execute_result"
    }
   ],
   "source": [
    "from sklearn.neighbors import KNeighborsRegressor\n",
    "# weights='distance'\n",
    "regressor = KNeighborsRegressor(n_neighbors=19, metric='manhattan')\n",
    "regressor.fit(X_train, y_train)"
   ]
  },
  {
   "cell_type": "code",
   "execution_count": 526,
   "metadata": {},
   "outputs": [],
   "source": [
    "y_pred = regressor.predict(X_test)"
   ]
  },
  {
   "cell_type": "code",
   "execution_count": 527,
   "metadata": {},
   "outputs": [
    {
     "name": "stdout",
     "output_type": "stream",
     "text": [
      "\n",
      "Model Performance Metrics:\n",
      "Mean Squared Error (MSE): 1660.31\n",
      "Mean Absolute Error (MAE): 14.53\n",
      "R-Squared (R2): 0.0968\n"
     ]
    }
   ],
   "source": [
    "from sklearn.metrics import mean_squared_error, mean_absolute_error, r2_score\n",
    "\n",
    "mse = mean_squared_error(y_test, y_pred)\n",
    "mae = mean_absolute_error(y_test, y_pred)\n",
    "r2 = r2_score(y_test, y_pred)\n",
    "\n",
    "print(\"\\nModel Performance Metrics:\")\n",
    "print(f\"Mean Squared Error (MSE): {mse:.2f}\")\n",
    "print(f\"Mean Absolute Error (MAE): {mae:.2f}\")\n",
    "print(f\"R-Squared (R2): {r2:.4f}\")"
   ]
  },
  {
   "cell_type": "code",
   "execution_count": 528,
   "metadata": {},
   "outputs": [],
   "source": [
    "# from sklearn.model_selection import GridSearchCV\n",
    "\n",
    "# param_grid = {'n_neighbors': range(3, 21, 2)}\n",
    "# grid = GridSearchCV(KNeighborsRegressor(), param_grid, cv=5, scoring='r2')\n",
    "# grid.fit(X_train, y_train)\n",
    "# print(\"Best k:\", grid.best_params_)"
   ]
  },
  {
   "cell_type": "code",
   "execution_count": 529,
   "metadata": {},
   "outputs": [
    {
     "data": {
      "image/png": "[encoded data removed]",
      "text/plain": [
       "<Figure size 800x600 with 1 Axes>"
      ]
     },
     "metadata": {},
     "output_type": "display_data"
    }
   ],
   "source": [
    "plt.figure(figsize=(8, 6))\n",
    "plt.scatter(y_test, y_pred, color='blue', alpha=0.5, label=\"Predicted vs Actual\")\n",
    "plt.plot([min(y_test), max(y_test)], [min(y_test), max(y_test)], color='black', linestyle='--', label=\"Perfect Fit\")\n",
    "\n",
    "plt.xlabel(\"Actual Flight Delay\")\n",
    "plt.ylabel(\"Predicted Flight Delay\")\n",
    "plt.title(\"Actual vs Predicted Flight Delay (KNN Regression)\")\n",
    "plt.legend()\n",
    "plt.grid(True)\n",
    "plt.show()"
   ]
  }
 ],
 "metadata": {
  "kernelspec": {
   "display_name": "base",
   "language": "python",
   "name": "python3"
  },
  "language_info": {
   "codemirror_mode": {
    "name": "ipython",
    "version": 3
   },
   "file_extension": ".py",
   "mimetype": "text/x-python",
   "name": "python",
   "nbconvert_exporter": "python",
   "pygments_lexer": "ipython3",
   "version": "3.10.9"
  },
  "vscode": {
   "interpreter": {
    "hash": "ec5ac13b6a65dbb336febcea5a6102df125651a3743895472026e6d8a7f60689"
   }
  }
 },
 "nbformat": 4,
 "nbformat_minor": 2
}
