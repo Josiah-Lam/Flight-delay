{
 "cells": [
  {
   "attachments": {},
   "cell_type": "markdown",
   "metadata": {},
   "source": [
    "# KNN Model"
   ]
  },
  {
   "cell_type": "code",
   "execution_count": 408,
   "metadata": {},
   "outputs": [],
   "source": [
    "# import modules \n",
    "import pandas as pd\n",
    "import matplotlib.pyplot as plt\n",
    "import numpy as np\n",
    "import seaborn as sns\n",
    "%matplotlib inline "
   ]
  },
  {
   "attachments": {},
   "cell_type": "markdown",
   "metadata": {},
   "source": [
    "### Data Preprocessing"
   ]
  },
  {
   "cell_type": "code",
   "execution_count": 409,
   "metadata": {},
   "outputs": [
    {
     "data": {
      "text/html": [
       "<div>\n",
       "<style scoped>\n",
       "    .dataframe tbody tr th:only-of-type {\n",
       "        vertical-align: middle;\n",
       "    }\n",
       "\n",
       "    .dataframe tbody tr th {\n",
       "        vertical-align: top;\n",
       "    }\n",
       "\n",
       "    .dataframe thead th {\n",
       "        text-align: right;\n",
       "    }\n",
       "</style>\n",
       "<table border=\"1\" class=\"dataframe\">\n",
       "  <thead>\n",
       "    <tr style=\"text-align: right;\">\n",
       "      <th></th>\n",
       "      <th>MONTH</th>\n",
       "      <th>DAY_OF_MONTH</th>\n",
       "      <th>DAY_OF_WEEK</th>\n",
       "      <th>OP_UNIQUE_CARRIER</th>\n",
       "      <th>TAIL_NUM</th>\n",
       "      <th>DEST</th>\n",
       "      <th>DEP_DELAY</th>\n",
       "      <th>CRS_ELAPSED_TIME</th>\n",
       "      <th>DISTANCE</th>\n",
       "      <th>CRS_DEP_M</th>\n",
       "      <th>...</th>\n",
       "      <th>Dew Point</th>\n",
       "      <th>Humidity</th>\n",
       "      <th>Wind</th>\n",
       "      <th>Wind Speed</th>\n",
       "      <th>Wind Gust</th>\n",
       "      <th>Pressure</th>\n",
       "      <th>Condition</th>\n",
       "      <th>sch_dep</th>\n",
       "      <th>sch_arr</th>\n",
       "      <th>TAXI_OUT</th>\n",
       "    </tr>\n",
       "  </thead>\n",
       "  <tbody>\n",
       "    <tr>\n",
       "      <th>0</th>\n",
       "      <td>11</td>\n",
       "      <td>1</td>\n",
       "      <td>5</td>\n",
       "      <td>B6</td>\n",
       "      <td>N828JB</td>\n",
       "      <td>CHS</td>\n",
       "      <td>-1</td>\n",
       "      <td>124</td>\n",
       "      <td>636</td>\n",
       "      <td>324</td>\n",
       "      <td>...</td>\n",
       "      <td>34</td>\n",
       "      <td>58</td>\n",
       "      <td>W</td>\n",
       "      <td>25</td>\n",
       "      <td>38</td>\n",
       "      <td>29.86</td>\n",
       "      <td>Fair / Windy</td>\n",
       "      <td>9</td>\n",
       "      <td>17</td>\n",
       "      <td>14</td>\n",
       "    </tr>\n",
       "    <tr>\n",
       "      <th>1</th>\n",
       "      <td>11</td>\n",
       "      <td>1</td>\n",
       "      <td>5</td>\n",
       "      <td>B6</td>\n",
       "      <td>N992JB</td>\n",
       "      <td>LAX</td>\n",
       "      <td>-7</td>\n",
       "      <td>371</td>\n",
       "      <td>2475</td>\n",
       "      <td>340</td>\n",
       "      <td>...</td>\n",
       "      <td>34</td>\n",
       "      <td>58</td>\n",
       "      <td>W</td>\n",
       "      <td>25</td>\n",
       "      <td>38</td>\n",
       "      <td>29.86</td>\n",
       "      <td>Fair / Windy</td>\n",
       "      <td>9</td>\n",
       "      <td>17</td>\n",
       "      <td>15</td>\n",
       "    </tr>\n",
       "    <tr>\n",
       "      <th>2</th>\n",
       "      <td>11</td>\n",
       "      <td>1</td>\n",
       "      <td>5</td>\n",
       "      <td>B6</td>\n",
       "      <td>N959JB</td>\n",
       "      <td>FLL</td>\n",
       "      <td>40</td>\n",
       "      <td>181</td>\n",
       "      <td>1069</td>\n",
       "      <td>301</td>\n",
       "      <td>...</td>\n",
       "      <td>34</td>\n",
       "      <td>58</td>\n",
       "      <td>W</td>\n",
       "      <td>25</td>\n",
       "      <td>38</td>\n",
       "      <td>29.86</td>\n",
       "      <td>Fair / Windy</td>\n",
       "      <td>9</td>\n",
       "      <td>17</td>\n",
       "      <td>22</td>\n",
       "    </tr>\n",
       "    <tr>\n",
       "      <th>3</th>\n",
       "      <td>11</td>\n",
       "      <td>1</td>\n",
       "      <td>5</td>\n",
       "      <td>B6</td>\n",
       "      <td>N999JQ</td>\n",
       "      <td>MCO</td>\n",
       "      <td>-2</td>\n",
       "      <td>168</td>\n",
       "      <td>944</td>\n",
       "      <td>345</td>\n",
       "      <td>...</td>\n",
       "      <td>34</td>\n",
       "      <td>58</td>\n",
       "      <td>W</td>\n",
       "      <td>25</td>\n",
       "      <td>38</td>\n",
       "      <td>29.86</td>\n",
       "      <td>Fair / Windy</td>\n",
       "      <td>9</td>\n",
       "      <td>17</td>\n",
       "      <td>12</td>\n",
       "    </tr>\n",
       "    <tr>\n",
       "      <th>4</th>\n",
       "      <td>11</td>\n",
       "      <td>1</td>\n",
       "      <td>5</td>\n",
       "      <td>DL</td>\n",
       "      <td>N880DN</td>\n",
       "      <td>ATL</td>\n",
       "      <td>-4</td>\n",
       "      <td>139</td>\n",
       "      <td>760</td>\n",
       "      <td>360</td>\n",
       "      <td>...</td>\n",
       "      <td>32</td>\n",
       "      <td>58</td>\n",
       "      <td>W</td>\n",
       "      <td>24</td>\n",
       "      <td>35</td>\n",
       "      <td>29.91</td>\n",
       "      <td>Fair / Windy</td>\n",
       "      <td>9</td>\n",
       "      <td>17</td>\n",
       "      <td>13</td>\n",
       "    </tr>\n",
       "  </tbody>\n",
       "</table>\n",
       "<p>5 rows × 23 columns</p>\n",
       "</div>"
      ],
      "text/plain": [
       "   MONTH  DAY_OF_MONTH  DAY_OF_WEEK OP_UNIQUE_CARRIER TAIL_NUM DEST  \\\n",
       "0     11             1            5                B6   N828JB  CHS   \n",
       "1     11             1            5                B6   N992JB  LAX   \n",
       "2     11             1            5                B6   N959JB  FLL   \n",
       "3     11             1            5                B6   N999JQ  MCO   \n",
       "4     11             1            5                DL   N880DN  ATL   \n",
       "\n",
       "   DEP_DELAY  CRS_ELAPSED_TIME  DISTANCE  CRS_DEP_M  ...  Dew Point  Humidity  \\\n",
       "0         -1               124       636        324  ...         34        58   \n",
       "1         -7               371      2475        340  ...         34        58   \n",
       "2         40               181      1069        301  ...         34        58   \n",
       "3         -2               168       944        345  ...         34        58   \n",
       "4         -4               139       760        360  ...         32        58   \n",
       "\n",
       "   Wind Wind Speed  Wind Gust Pressure     Condition  sch_dep  sch_arr  \\\n",
       "0     W         25         38    29.86  Fair / Windy        9       17   \n",
       "1     W         25         38    29.86  Fair / Windy        9       17   \n",
       "2     W         25         38    29.86  Fair / Windy        9       17   \n",
       "3     W         25         38    29.86  Fair / Windy        9       17   \n",
       "4     W         24         35    29.91  Fair / Windy        9       17   \n",
       "\n",
       "  TAXI_OUT  \n",
       "0       14  \n",
       "1       15  \n",
       "2       22  \n",
       "3       12  \n",
       "4       13  \n",
       "\n",
       "[5 rows x 23 columns]"
      ]
     },
     "execution_count": 409,
     "metadata": {},
     "output_type": "execute_result"
    }
   ],
   "source": [
    "df = pd.read_csv('../cleaning-preprocessing/flight-delay-dataset.csv')\n",
    "df.head(5)"
   ]
  },
  {
   "cell_type": "code",
   "execution_count": 410,
   "metadata": {},
   "outputs": [],
   "source": [
    "# Remove NAs\n",
    "df.isna().sum()\n",
    "df.dropna(inplace=True)\n",
    "\n",
    "# Remove TAIL_NUM and TAXI_OUT\n",
    "df.drop(columns=['TAIL_NUM', 'TAXI_OUT', 'DEP_TIME_M'], inplace=True)\n",
    "\n",
    "# Convert DEW_POINT to int\n",
    "df['Dew Point'] = df['Dew Point'].astype(int)\n",
    "\n",
    "# Encode categorical variables\n",
    "columns_to_encode = ['OP_UNIQUE_CARRIER', 'DEST', 'Wind', 'Condition']\n",
    "df_encoded = pd.get_dummies(df, columns=columns_to_encode)\n",
    "\n",
    "# Remove all values beyond 3 standard deviations from the mean\n",
    "mean_dep_delay = df_encoded['DEP_DELAY'].mean()\n",
    "std_dep_delay = df_encoded['DEP_DELAY'].std()\n",
    "upper_threshold = mean_dep_delay + (3 * std_dep_delay)\n",
    "df_encoded = df_encoded[df_encoded['DEP_DELAY'] <= upper_threshold]\n",
    "\n",
    "# Remove all values below 0\n",
    "df = df_encoded[df_encoded['DEP_DELAY'] >= 15]"
   ]
  },
  {
   "attachments": {},
   "cell_type": "markdown",
   "metadata": {},
   "source": [
    "### Feature Analysis (Filtering)"
   ]
  },
  {
   "cell_type": "code",
   "execution_count": 411,
   "metadata": {},
   "outputs": [],
   "source": [
    "# Considering any flight is delay after 15 minutes\n",
    "df = df[df['DEP_DELAY'] >= 15]\n",
    "\n",
    "# Filtering df with Features Outiler Requirments (From training_feature_analysis)\n",
    "df = df[df['CRS_ELAPSED_TIME'] < 600]\n",
    "df = df[df['DISTANCE'] < 4000]\n",
    "df = df[df['CRS_ARR_M'] > 400]"
   ]
  },
  {
   "attachments": {},
   "cell_type": "markdown",
   "metadata": {},
   "source": [
    "### Transformation Testing"
   ]
  },
  {
   "cell_type": "code",
   "execution_count": 412,
   "metadata": {},
   "outputs": [
    {
     "name": "stdout",
     "output_type": "stream",
     "text": [
      "1.1074957156949266\n",
      "-0.33623533656155286\n",
      "0.409902935429171\n"
     ]
    }
   ],
   "source": [
    "print(df['DEP_DELAY'].skew())  # If > 0.5 or < -0.5, transformation is needed\n",
    "\n",
    "df['DEP_DELAY_shifted'] = df['DEP_DELAY'] - df['DEP_DELAY'].min() + 1\n",
    "\n",
    "df['DEP_DELAY_log'] = np.log1p(df['DEP_DELAY_shifted'])  # log1p avoids log(0) issue\n",
    "print(df['DEP_DELAY_log'].skew())\n",
    "\n",
    "df['DEP_DELAY_sqrt'] = np.sqrt(df['DEP_DELAY_shifted']) # sqrt version \n",
    "print(df['DEP_DELAY_sqrt'].skew())"
   ]
  },
  {
   "cell_type": "code",
   "execution_count": 413,
   "metadata": {},
   "outputs": [
    {
     "data": {
      "text/plain": [
       "2      40\n",
       "14    108\n",
       "36     29\n",
       "Name: DEP_DELAY, dtype: int64"
      ]
     },
     "execution_count": 413,
     "metadata": {},
     "output_type": "execute_result"
    }
   ],
   "source": [
    "X = df.drop(columns=['DEP_DELAY_sqrt','DEP_DELAY_log', 'DEP_DELAY','DEP_DELAY_shifted']) #Dropping DEP_DELAY Log/Sqrt transform cols\n",
    "\n",
    "# Using Single Log Transformation\n",
    "y = df['DEP_DELAY']  # Target variable\n",
    "\n",
    "y.head(3)"
   ]
  },
  {
   "attachments": {},
   "cell_type": "markdown",
   "metadata": {},
   "source": [
    "### Feature Selection"
   ]
  },
  {
   "cell_type": "code",
   "execution_count": 414,
   "metadata": {},
   "outputs": [
    {
     "name": "stderr",
     "output_type": "stream",
     "text": [
      "/var/folders/06/6rnd9mvj2tg64m2vg9cssn0w0000gn/T/ipykernel_43630/3256436071.py:1: FutureWarning: DataFrame.applymap has been deprecated. Use DataFrame.map instead.\n",
      "  X = X.applymap(lambda x: max(x, 0))\n"
     ]
    }
   ],
   "source": [
    "X = X.applymap(lambda x: max(x, 0))\n",
    "X = X.fillna(X.mean())"
   ]
  },
  {
   "cell_type": "code",
   "execution_count": 415,
   "metadata": {},
   "outputs": [],
   "source": [
    "k_num_features = 20"
   ]
  },
  {
   "cell_type": "code",
   "execution_count": 416,
   "metadata": {},
   "outputs": [
    {
     "name": "stdout",
     "output_type": "stream",
     "text": [
      "Selected Features:\n",
      "                     Feature    F-Score\n",
      "4                    sch_dep  54.263258\n",
      "6       OP_UNIQUE_CARRIER_DL  19.403768\n",
      "1                   DISTANCE  19.164016\n",
      "0           CRS_ELAPSED_TIME  19.061150\n",
      "3                   Pressure  13.370950\n",
      "18  Condition_Cloudy / Windy  11.508220\n",
      "8                   DEST_BOS  10.000492\n",
      "17                    Wind_W   7.781376\n",
      "2                 Wind Speed   7.270000\n",
      "10                  DEST_BUF   5.859955\n",
      "13                  DEST_SLC   5.714692\n",
      "15                  Wind_ENE   5.376252\n",
      "14                    Wind_E   4.647737\n",
      "7       OP_UNIQUE_CARRIER_MQ   4.567116\n",
      "19            Condition_Rain   4.246528\n",
      "11                  DEST_CVG   3.790780\n",
      "12                  DEST_SAV   3.781041\n",
      "16                   Wind_NE   3.638028\n",
      "9                   DEST_BTV   3.550961\n",
      "5       OP_UNIQUE_CARRIER_9E   3.536989\n"
     ]
    }
   ],
   "source": [
    "from sklearn.feature_selection import SelectKBest, f_regression\n",
    "from sklearn.preprocessing import StandardScaler\n",
    "\n",
    "# Standardize numerical features\n",
    "scaler = StandardScaler()\n",
    "X_scaled = scaler.fit_transform(X)\n",
    "\n",
    "# Apply SelectKBest with f_regression\n",
    "k = k_num_features  # Number of top features to select\n",
    "selector = SelectKBest(score_func=f_regression, k=k)\n",
    "X_selected = selector.fit_transform(X_scaled, y)\n",
    "\n",
    "# Get selected feature names\n",
    "selected_features = X.columns[selector.get_support()]\n",
    "feature_scores = selector.scores_[selector.get_support()]\n",
    "\n",
    "# Create a DataFrame with feature names and scores\n",
    "feature_df = pd.DataFrame({'Feature': selected_features, 'F-Score': feature_scores})\n",
    "feature_df = feature_df.sort_values(by='F-Score', ascending=False)\n",
    "\n",
    "# Print the selected features\n",
    "print(\"Selected Features:\")\n",
    "print(feature_df)"
   ]
  },
  {
   "cell_type": "code",
   "execution_count": 417,
   "metadata": {},
   "outputs": [],
   "source": [
    "selected_num_feature = 9 #Selecting F-score greater than 5"
   ]
  },
  {
   "cell_type": "code",
   "execution_count": 418,
   "metadata": {},
   "outputs": [
    {
     "name": "stdout",
     "output_type": "stream",
     "text": [
      "Selected Features:\n",
      "                    Feature    F-Score\n",
      "4                   sch_dep  54.263258\n",
      "5      OP_UNIQUE_CARRIER_DL  19.403768\n",
      "1                  DISTANCE  19.164016\n",
      "0          CRS_ELAPSED_TIME  19.061150\n",
      "3                  Pressure  13.370950\n",
      "8  Condition_Cloudy / Windy  11.508220\n",
      "6                  DEST_BOS  10.000492\n",
      "7                    Wind_W   7.781376\n",
      "2                Wind Speed   7.270000\n"
     ]
    }
   ],
   "source": [
    "from sklearn.feature_selection import SelectKBest, f_regression\n",
    "from sklearn.preprocessing import StandardScaler\n",
    "\n",
    "# Standardize numerical features\n",
    "scaler = StandardScaler()\n",
    "X_scaled = scaler.fit_transform(X)\n",
    "\n",
    "# Apply SelectKBest with f_regression\n",
    "k = selected_num_feature  # Number of top features to select\n",
    "selector = SelectKBest(score_func=f_regression, k=k)\n",
    "X_selected = selector.fit_transform(X_scaled, y)\n",
    "\n",
    "# Get selected feature names\n",
    "selected_features = X.columns[selector.get_support()]\n",
    "feature_scores = selector.scores_[selector.get_support()]\n",
    "\n",
    "# Create a DataFrame with feature names and scores\n",
    "feature_df = pd.DataFrame({'Feature': selected_features, 'F-Score': feature_scores})\n",
    "feature_df = feature_df.sort_values(by='F-Score', ascending=False)\n",
    "\n",
    "# Print the selected features\n",
    "print(\"Selected Features:\")\n",
    "print(feature_df)"
   ]
  },
  {
   "attachments": {},
   "cell_type": "markdown",
   "metadata": {},
   "source": [
    "### Split Training and Test Set"
   ]
  },
  {
   "cell_type": "code",
   "execution_count": 419,
   "metadata": {},
   "outputs": [],
   "source": [
    "from sklearn.model_selection import train_test_split \n",
    "\n",
    "# X = X[['MONTH', 'CRS_DEP_M', 'CRS_ARR_M', 'Wind Speed']]\n",
    "\n",
    "X_train, X_test, y_train, y_test = train_test_split(X[feature_df['Feature']], y, test_size = 0.2, random_state = 42)"
   ]
  },
  {
   "attachments": {},
   "cell_type": "markdown",
   "metadata": {},
   "source": [
    "### Model Training"
   ]
  },
  {
   "cell_type": "code",
   "execution_count": 420,
   "metadata": {},
   "outputs": [
    {
     "data": {
      "text/html": [
       "<style>#sk-container-id-17 {color: black;background-color: white;}#sk-container-id-17 pre{padding: 0;}#sk-container-id-17 div.sk-toggleable {background-color: white;}#sk-container-id-17 label.sk-toggleable__label {cursor: pointer;display: block;width: 100%;margin-bottom: 0;padding: 0.3em;box-sizing: border-box;text-align: center;}#sk-container-id-17 label.sk-toggleable__label-arrow:before {content: \"▸\";float: left;margin-right: 0.25em;color: #696969;}#sk-container-id-17 label.sk-toggleable__label-arrow:hover:before {color: black;}#sk-container-id-17 div.sk-estimator:hover label.sk-toggleable__label-arrow:before {color: black;}#sk-container-id-17 div.sk-toggleable__content {max-height: 0;max-width: 0;overflow: hidden;text-align: left;background-color: #f0f8ff;}#sk-container-id-17 div.sk-toggleable__content pre {margin: 0.2em;color: black;border-radius: 0.25em;background-color: #f0f8ff;}#sk-container-id-17 input.sk-toggleable__control:checked~div.sk-toggleable__content {max-height: 200px;max-width: 100%;overflow: auto;}#sk-container-id-17 input.sk-toggleable__control:checked~label.sk-toggleable__label-arrow:before {content: \"▾\";}#sk-container-id-17 div.sk-estimator input.sk-toggleable__control:checked~label.sk-toggleable__label {background-color: #d4ebff;}#sk-container-id-17 div.sk-label input.sk-toggleable__control:checked~label.sk-toggleable__label {background-color: #d4ebff;}#sk-container-id-17 input.sk-hidden--visually {border: 0;clip: rect(1px 1px 1px 1px);clip: rect(1px, 1px, 1px, 1px);height: 1px;margin: -1px;overflow: hidden;padding: 0;position: absolute;width: 1px;}#sk-container-id-17 div.sk-estimator {font-family: monospace;background-color: #f0f8ff;border: 1px dotted black;border-radius: 0.25em;box-sizing: border-box;margin-bottom: 0.5em;}#sk-container-id-17 div.sk-estimator:hover {background-color: #d4ebff;}#sk-container-id-17 div.sk-parallel-item::after {content: \"\";width: 100%;border-bottom: 1px solid gray;flex-grow: 1;}#sk-container-id-17 div.sk-label:hover label.sk-toggleable__label {background-color: #d4ebff;}#sk-container-id-17 div.sk-serial::before {content: \"\";position: absolute;border-left: 1px solid gray;box-sizing: border-box;top: 0;bottom: 0;left: 50%;z-index: 0;}#sk-container-id-17 div.sk-serial {display: flex;flex-direction: column;align-items: center;background-color: white;padding-right: 0.2em;padding-left: 0.2em;position: relative;}#sk-container-id-17 div.sk-item {position: relative;z-index: 1;}#sk-container-id-17 div.sk-parallel {display: flex;align-items: stretch;justify-content: center;background-color: white;position: relative;}#sk-container-id-17 div.sk-item::before, #sk-container-id-17 div.sk-parallel-item::before {content: \"\";position: absolute;border-left: 1px solid gray;box-sizing: border-box;top: 0;bottom: 0;left: 50%;z-index: -1;}#sk-container-id-17 div.sk-parallel-item {display: flex;flex-direction: column;z-index: 1;position: relative;background-color: white;}#sk-container-id-17 div.sk-parallel-item:first-child::after {align-self: flex-end;width: 50%;}#sk-container-id-17 div.sk-parallel-item:last-child::after {align-self: flex-start;width: 50%;}#sk-container-id-17 div.sk-parallel-item:only-child::after {width: 0;}#sk-container-id-17 div.sk-dashed-wrapped {border: 1px dashed gray;margin: 0 0.4em 0.5em 0.4em;box-sizing: border-box;padding-bottom: 0.4em;background-color: white;}#sk-container-id-17 div.sk-label label {font-family: monospace;font-weight: bold;display: inline-block;line-height: 1.2em;}#sk-container-id-17 div.sk-label-container {text-align: center;}#sk-container-id-17 div.sk-container {/* jupyter's `normalize.less` sets `[hidden] { display: none; }` but bootstrap.min.css set `[hidden] { display: none !important; }` so we also need the `!important` here to be able to override the default hidden behavior on the sphinx rendered scikit-learn.org. See: https://github.com/scikit-learn/scikit-learn/issues/21755 */display: inline-block !important;position: relative;}#sk-container-id-17 div.sk-text-repr-fallback {display: none;}</style><div id=\"sk-container-id-17\" class=\"sk-top-container\"><div class=\"sk-text-repr-fallback\"><pre>KNeighborsRegressor(metric=&#x27;manhattan&#x27;, n_neighbors=9, weights=&#x27;distance&#x27;)</pre><b>In a Jupyter environment, please rerun this cell to show the HTML representation or trust the notebook. <br />On GitHub, the HTML representation is unable to render, please try loading this page with nbviewer.org.</b></div><div class=\"sk-container\" hidden><div class=\"sk-item\"><div class=\"sk-estimator sk-toggleable\"><input class=\"sk-toggleable__control sk-hidden--visually\" id=\"sk-estimator-id-17\" type=\"checkbox\" checked><label for=\"sk-estimator-id-17\" class=\"sk-toggleable__label sk-toggleable__label-arrow\">KNeighborsRegressor</label><div class=\"sk-toggleable__content\"><pre>KNeighborsRegressor(metric=&#x27;manhattan&#x27;, n_neighbors=9, weights=&#x27;distance&#x27;)</pre></div></div></div></div></div>"
      ],
      "text/plain": [
       "KNeighborsRegressor(metric='manhattan', n_neighbors=9, weights='distance')"
      ]
     },
     "execution_count": 420,
     "metadata": {},
     "output_type": "execute_result"
    }
   ],
   "source": [
    "# from sklearn.linear_model import LinearRegression\n",
    "# regressor = LinearRegression()\n",
    "# regressor.fit(X_train, y_train)\n",
    "\n",
    "# from sklearn.tree import DecisionTreeRegressor  #BEST\n",
    "# regressor = DecisionTreeRegressor(random_state = 0)\n",
    "# regressor.fit(X_train, y_train)\n",
    "\n",
    "# from sklearn.ensemble import RandomForestRegressor\n",
    "# regressor = RandomForestRegressor(n_estimators = 10, random_state = 0)\n",
    "# regressor.fit(X_train, y_train)\n",
    "\n",
    "# from sklearn.svm import SVR # Good with small dataset\n",
    "# regressor = SVR(kernel = 'rbf')\n",
    "# regressor.fit(X_train, y_train)\n",
    "\n",
    "# from sklearn.linear_model import Ridge\n",
    "# regressor = Ridge(alpha=0.5)  # You can adjust alpha (regularization strength)\n",
    "# regressor.fit(X_train, y_train)\n",
    "\n",
    "from sklearn.neighbors import KNeighborsRegressor\n",
    "regressor = KNeighborsRegressor(n_neighbors=9, metric='manhattan', weights='distance')\n",
    "regressor.fit(X_train, y_train)"
   ]
  },
  {
   "attachments": {},
   "cell_type": "markdown",
   "metadata": {},
   "source": [
    "### Trasnform Back"
   ]
  },
  {
   "cell_type": "code",
   "execution_count": 421,
   "metadata": {},
   "outputs": [],
   "source": [
    "y_pred = regressor.predict(X_test)\n",
    "\n",
    "# 1 log transformation\n",
    "# y_pred = np.exp(y_pred)\n",
    "# y_test = np.exp(y_test)\n",
    "\n",
    "# 2 Sqrt trasnfromation \n",
    "# y_pred = (y_pred)**2\n",
    "# y_test = (y_test)**2"
   ]
  },
  {
   "attachments": {},
   "cell_type": "markdown",
   "metadata": {},
   "source": [
    "### Results"
   ]
  },
  {
   "cell_type": "code",
   "execution_count": 422,
   "metadata": {},
   "outputs": [
    {
     "name": "stdout",
     "output_type": "stream",
     "text": [
      "\n",
      "Model Performance Metrics:\n",
      "Mean Squared Error (MSE): 690.03\n",
      "Mean Absolute Error (MAE): 20.61\n",
      "Average Prediction 42.93691941226063\n"
     ]
    }
   ],
   "source": [
    "from sklearn.metrics import mean_squared_error, mean_absolute_error, r2_score\n",
    "\n",
    "mse = mean_squared_error(y_test, y_pred)\n",
    "mae = mean_absolute_error(y_test, y_pred)\n",
    "r2 = r2_score(y_test, y_pred)\n",
    "\n",
    "print(\"\\nModel Performance Metrics:\")\n",
    "print(f\"Mean Squared Error (MSE): {mse:.2f}\")\n",
    "print(f\"Mean Absolute Error (MAE): {mae:.2f}\")\n",
    "print(f\"Average Prediction {np.mean(y_pred)}\")"
   ]
  },
  {
   "cell_type": "code",
   "execution_count": 423,
   "metadata": {},
   "outputs": [
    {
     "data": {
      "image/png": "[encoded data removed]",
      "text/plain": [
       "<Figure size 800x600 with 1 Axes>"
      ]
     },
     "metadata": {},
     "output_type": "display_data"
    }
   ],
   "source": [
    "plt.figure(figsize=(8, 6))\n",
    "plt.scatter(y_test, y_pred, color='blue', alpha=0.5, label=\"Predicted vs Actual\")\n",
    "plt.plot([min(y_test), max(y_test)], [min(y_test), max(y_test)], color='red', linestyle='--', label=\"Perfect Fit\")\n",
    "\n",
    "plt.xlabel(\"Actual Flight Delay\")\n",
    "plt.ylabel(\"Predicted Flight Delay\")\n",
    "plt.title(\"Actual vs Predicted Flight Delay (KNN Regression)\")\n",
    "plt.legend()\n",
    "plt.grid(True)\n",
    "plt.show()"
   ]
  },
  {
   "cell_type": "code",
   "execution_count": 424,
   "metadata": {},
   "outputs": [
    {
     "name": "stdout",
     "output_type": "stream",
     "text": [
      "Best k: {'n_neighbors': 9}\n"
     ]
    }
   ],
   "source": [
    "from sklearn.model_selection import GridSearchCV\n",
    "\n",
    "param_grid = {'n_neighbors': range(3, 11, 2)}\n",
    "grid = GridSearchCV(KNeighborsRegressor(), param_grid, cv=5, scoring='r2')\n",
    "grid.fit(X_train, y_train)\n",
    "print(\"Best k:\", grid.best_params_)"
   ]
  }
 ],
 "metadata": {
  "kernelspec": {
   "display_name": "base",
   "language": "python",
   "name": "python3"
  },
  "language_info": {
   "codemirror_mode": {
    "name": "ipython",
    "version": 3
   },
   "file_extension": ".py",
   "mimetype": "text/x-python",
   "name": "python",
   "nbconvert_exporter": "python",
   "pygments_lexer": "ipython3",
   "version": "3.10.9"
  },
  "orig_nbformat": 4,
  "vscode": {
   "interpreter": {
    "hash": "ec5ac13b6a65dbb336febcea5a6102df125651a3743895472026e6d8a7f60689"
   }
  }
 },
 "nbformat": 4,
 "nbformat_minor": 2
}
